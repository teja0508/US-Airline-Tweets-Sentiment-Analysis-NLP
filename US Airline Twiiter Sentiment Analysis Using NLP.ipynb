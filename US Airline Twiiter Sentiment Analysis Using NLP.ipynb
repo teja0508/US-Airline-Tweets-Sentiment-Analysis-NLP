{
 "cells": [
  {
   "cell_type": "code",
   "execution_count": 1,
   "metadata": {},
   "outputs": [],
   "source": [
    "import pandas as pd\n",
    "import numpy as np\n",
    "import seaborn as sns\n",
    "import matplotlib.pyplot as plt\n",
    "%matplotlib inline"
   ]
  },
  {
   "cell_type": "code",
   "execution_count": 2,
   "metadata": {},
   "outputs": [],
   "source": [
    "df=pd.read_csv('Tweets.csv')"
   ]
  },
  {
   "cell_type": "code",
   "execution_count": 3,
   "metadata": {},
   "outputs": [
    {
     "data": {
      "text/html": [
       "<div>\n",
       "<style scoped>\n",
       "    .dataframe tbody tr th:only-of-type {\n",
       "        vertical-align: middle;\n",
       "    }\n",
       "\n",
       "    .dataframe tbody tr th {\n",
       "        vertical-align: top;\n",
       "    }\n",
       "\n",
       "    .dataframe thead th {\n",
       "        text-align: right;\n",
       "    }\n",
       "</style>\n",
       "<table border=\"1\" class=\"dataframe\">\n",
       "  <thead>\n",
       "    <tr style=\"text-align: right;\">\n",
       "      <th></th>\n",
       "      <th>tweet_id</th>\n",
       "      <th>airline_sentiment</th>\n",
       "      <th>airline_sentiment_confidence</th>\n",
       "      <th>negativereason</th>\n",
       "      <th>negativereason_confidence</th>\n",
       "      <th>airline</th>\n",
       "      <th>airline_sentiment_gold</th>\n",
       "      <th>name</th>\n",
       "      <th>negativereason_gold</th>\n",
       "      <th>retweet_count</th>\n",
       "      <th>text</th>\n",
       "      <th>tweet_coord</th>\n",
       "      <th>tweet_created</th>\n",
       "      <th>tweet_location</th>\n",
       "      <th>user_timezone</th>\n",
       "    </tr>\n",
       "  </thead>\n",
       "  <tbody>\n",
       "    <tr>\n",
       "      <th>0</th>\n",
       "      <td>570306133677760513</td>\n",
       "      <td>neutral</td>\n",
       "      <td>1.0000</td>\n",
       "      <td>NaN</td>\n",
       "      <td>NaN</td>\n",
       "      <td>Virgin America</td>\n",
       "      <td>NaN</td>\n",
       "      <td>cairdin</td>\n",
       "      <td>NaN</td>\n",
       "      <td>0</td>\n",
       "      <td>@VirginAmerica What @dhepburn said.</td>\n",
       "      <td>NaN</td>\n",
       "      <td>2015-02-24 11:35:52 -0800</td>\n",
       "      <td>NaN</td>\n",
       "      <td>Eastern Time (US &amp; Canada)</td>\n",
       "    </tr>\n",
       "    <tr>\n",
       "      <th>1</th>\n",
       "      <td>570301130888122368</td>\n",
       "      <td>positive</td>\n",
       "      <td>0.3486</td>\n",
       "      <td>NaN</td>\n",
       "      <td>0.0000</td>\n",
       "      <td>Virgin America</td>\n",
       "      <td>NaN</td>\n",
       "      <td>jnardino</td>\n",
       "      <td>NaN</td>\n",
       "      <td>0</td>\n",
       "      <td>@VirginAmerica plus you've added commercials t...</td>\n",
       "      <td>NaN</td>\n",
       "      <td>2015-02-24 11:15:59 -0800</td>\n",
       "      <td>NaN</td>\n",
       "      <td>Pacific Time (US &amp; Canada)</td>\n",
       "    </tr>\n",
       "    <tr>\n",
       "      <th>2</th>\n",
       "      <td>570301083672813571</td>\n",
       "      <td>neutral</td>\n",
       "      <td>0.6837</td>\n",
       "      <td>NaN</td>\n",
       "      <td>NaN</td>\n",
       "      <td>Virgin America</td>\n",
       "      <td>NaN</td>\n",
       "      <td>yvonnalynn</td>\n",
       "      <td>NaN</td>\n",
       "      <td>0</td>\n",
       "      <td>@VirginAmerica I didn't today... Must mean I n...</td>\n",
       "      <td>NaN</td>\n",
       "      <td>2015-02-24 11:15:48 -0800</td>\n",
       "      <td>Lets Play</td>\n",
       "      <td>Central Time (US &amp; Canada)</td>\n",
       "    </tr>\n",
       "    <tr>\n",
       "      <th>3</th>\n",
       "      <td>570301031407624196</td>\n",
       "      <td>negative</td>\n",
       "      <td>1.0000</td>\n",
       "      <td>Bad Flight</td>\n",
       "      <td>0.7033</td>\n",
       "      <td>Virgin America</td>\n",
       "      <td>NaN</td>\n",
       "      <td>jnardino</td>\n",
       "      <td>NaN</td>\n",
       "      <td>0</td>\n",
       "      <td>@VirginAmerica it's really aggressive to blast...</td>\n",
       "      <td>NaN</td>\n",
       "      <td>2015-02-24 11:15:36 -0800</td>\n",
       "      <td>NaN</td>\n",
       "      <td>Pacific Time (US &amp; Canada)</td>\n",
       "    </tr>\n",
       "    <tr>\n",
       "      <th>4</th>\n",
       "      <td>570300817074462722</td>\n",
       "      <td>negative</td>\n",
       "      <td>1.0000</td>\n",
       "      <td>Can't Tell</td>\n",
       "      <td>1.0000</td>\n",
       "      <td>Virgin America</td>\n",
       "      <td>NaN</td>\n",
       "      <td>jnardino</td>\n",
       "      <td>NaN</td>\n",
       "      <td>0</td>\n",
       "      <td>@VirginAmerica and it's a really big bad thing...</td>\n",
       "      <td>NaN</td>\n",
       "      <td>2015-02-24 11:14:45 -0800</td>\n",
       "      <td>NaN</td>\n",
       "      <td>Pacific Time (US &amp; Canada)</td>\n",
       "    </tr>\n",
       "  </tbody>\n",
       "</table>\n",
       "</div>"
      ],
      "text/plain": [
       "             tweet_id airline_sentiment  airline_sentiment_confidence  \\\n",
       "0  570306133677760513           neutral                        1.0000   \n",
       "1  570301130888122368          positive                        0.3486   \n",
       "2  570301083672813571           neutral                        0.6837   \n",
       "3  570301031407624196          negative                        1.0000   \n",
       "4  570300817074462722          negative                        1.0000   \n",
       "\n",
       "  negativereason  negativereason_confidence         airline  \\\n",
       "0            NaN                        NaN  Virgin America   \n",
       "1            NaN                     0.0000  Virgin America   \n",
       "2            NaN                        NaN  Virgin America   \n",
       "3     Bad Flight                     0.7033  Virgin America   \n",
       "4     Can't Tell                     1.0000  Virgin America   \n",
       "\n",
       "  airline_sentiment_gold        name negativereason_gold  retweet_count  \\\n",
       "0                    NaN     cairdin                 NaN              0   \n",
       "1                    NaN    jnardino                 NaN              0   \n",
       "2                    NaN  yvonnalynn                 NaN              0   \n",
       "3                    NaN    jnardino                 NaN              0   \n",
       "4                    NaN    jnardino                 NaN              0   \n",
       "\n",
       "                                                text tweet_coord  \\\n",
       "0                @VirginAmerica What @dhepburn said.         NaN   \n",
       "1  @VirginAmerica plus you've added commercials t...         NaN   \n",
       "2  @VirginAmerica I didn't today... Must mean I n...         NaN   \n",
       "3  @VirginAmerica it's really aggressive to blast...         NaN   \n",
       "4  @VirginAmerica and it's a really big bad thing...         NaN   \n",
       "\n",
       "               tweet_created tweet_location               user_timezone  \n",
       "0  2015-02-24 11:35:52 -0800            NaN  Eastern Time (US & Canada)  \n",
       "1  2015-02-24 11:15:59 -0800            NaN  Pacific Time (US & Canada)  \n",
       "2  2015-02-24 11:15:48 -0800      Lets Play  Central Time (US & Canada)  \n",
       "3  2015-02-24 11:15:36 -0800            NaN  Pacific Time (US & Canada)  \n",
       "4  2015-02-24 11:14:45 -0800            NaN  Pacific Time (US & Canada)  "
      ]
     },
     "execution_count": 3,
     "metadata": {},
     "output_type": "execute_result"
    }
   ],
   "source": [
    "df.head()"
   ]
  },
  {
   "cell_type": "markdown",
   "metadata": {},
   "source": [
    "## Data Analysis :"
   ]
  },
  {
   "cell_type": "code",
   "execution_count": 4,
   "metadata": {},
   "outputs": [
    {
     "data": {
      "text/html": [
       "<div>\n",
       "<style scoped>\n",
       "    .dataframe tbody tr th:only-of-type {\n",
       "        vertical-align: middle;\n",
       "    }\n",
       "\n",
       "    .dataframe tbody tr th {\n",
       "        vertical-align: top;\n",
       "    }\n",
       "\n",
       "    .dataframe thead th {\n",
       "        text-align: right;\n",
       "    }\n",
       "</style>\n",
       "<table border=\"1\" class=\"dataframe\">\n",
       "  <thead>\n",
       "    <tr style=\"text-align: right;\">\n",
       "      <th></th>\n",
       "      <th>count</th>\n",
       "      <th>mean</th>\n",
       "      <th>std</th>\n",
       "      <th>min</th>\n",
       "      <th>25%</th>\n",
       "      <th>50%</th>\n",
       "      <th>75%</th>\n",
       "      <th>max</th>\n",
       "    </tr>\n",
       "  </thead>\n",
       "  <tbody>\n",
       "    <tr>\n",
       "      <th>tweet_id</th>\n",
       "      <td>14640.0</td>\n",
       "      <td>5.692184e+17</td>\n",
       "      <td>7.791112e+14</td>\n",
       "      <td>5.675883e+17</td>\n",
       "      <td>5.685592e+17</td>\n",
       "      <td>5.694779e+17</td>\n",
       "      <td>5.698905e+17</td>\n",
       "      <td>5.703106e+17</td>\n",
       "    </tr>\n",
       "    <tr>\n",
       "      <th>airline_sentiment_confidence</th>\n",
       "      <td>14640.0</td>\n",
       "      <td>9.001689e-01</td>\n",
       "      <td>1.628300e-01</td>\n",
       "      <td>3.350000e-01</td>\n",
       "      <td>6.923000e-01</td>\n",
       "      <td>1.000000e+00</td>\n",
       "      <td>1.000000e+00</td>\n",
       "      <td>1.000000e+00</td>\n",
       "    </tr>\n",
       "    <tr>\n",
       "      <th>negativereason_confidence</th>\n",
       "      <td>10522.0</td>\n",
       "      <td>6.382983e-01</td>\n",
       "      <td>3.304398e-01</td>\n",
       "      <td>0.000000e+00</td>\n",
       "      <td>3.606000e-01</td>\n",
       "      <td>6.706000e-01</td>\n",
       "      <td>1.000000e+00</td>\n",
       "      <td>1.000000e+00</td>\n",
       "    </tr>\n",
       "    <tr>\n",
       "      <th>retweet_count</th>\n",
       "      <td>14640.0</td>\n",
       "      <td>8.265027e-02</td>\n",
       "      <td>7.457782e-01</td>\n",
       "      <td>0.000000e+00</td>\n",
       "      <td>0.000000e+00</td>\n",
       "      <td>0.000000e+00</td>\n",
       "      <td>0.000000e+00</td>\n",
       "      <td>4.400000e+01</td>\n",
       "    </tr>\n",
       "  </tbody>\n",
       "</table>\n",
       "</div>"
      ],
      "text/plain": [
       "                                count          mean           std  \\\n",
       "tweet_id                      14640.0  5.692184e+17  7.791112e+14   \n",
       "airline_sentiment_confidence  14640.0  9.001689e-01  1.628300e-01   \n",
       "negativereason_confidence     10522.0  6.382983e-01  3.304398e-01   \n",
       "retweet_count                 14640.0  8.265027e-02  7.457782e-01   \n",
       "\n",
       "                                       min           25%           50%  \\\n",
       "tweet_id                      5.675883e+17  5.685592e+17  5.694779e+17   \n",
       "airline_sentiment_confidence  3.350000e-01  6.923000e-01  1.000000e+00   \n",
       "negativereason_confidence     0.000000e+00  3.606000e-01  6.706000e-01   \n",
       "retweet_count                 0.000000e+00  0.000000e+00  0.000000e+00   \n",
       "\n",
       "                                       75%           max  \n",
       "tweet_id                      5.698905e+17  5.703106e+17  \n",
       "airline_sentiment_confidence  1.000000e+00  1.000000e+00  \n",
       "negativereason_confidence     1.000000e+00  1.000000e+00  \n",
       "retweet_count                 0.000000e+00  4.400000e+01  "
      ]
     },
     "execution_count": 4,
     "metadata": {},
     "output_type": "execute_result"
    }
   ],
   "source": [
    "df.describe().T"
   ]
  },
  {
   "cell_type": "code",
   "execution_count": 5,
   "metadata": {},
   "outputs": [
    {
     "name": "stdout",
     "output_type": "stream",
     "text": [
      "<class 'pandas.core.frame.DataFrame'>\n",
      "RangeIndex: 14640 entries, 0 to 14639\n",
      "Data columns (total 15 columns):\n",
      " #   Column                        Non-Null Count  Dtype  \n",
      "---  ------                        --------------  -----  \n",
      " 0   tweet_id                      14640 non-null  int64  \n",
      " 1   airline_sentiment             14640 non-null  object \n",
      " 2   airline_sentiment_confidence  14640 non-null  float64\n",
      " 3   negativereason                9178 non-null   object \n",
      " 4   negativereason_confidence     10522 non-null  float64\n",
      " 5   airline                       14640 non-null  object \n",
      " 6   airline_sentiment_gold        40 non-null     object \n",
      " 7   name                          14640 non-null  object \n",
      " 8   negativereason_gold           32 non-null     object \n",
      " 9   retweet_count                 14640 non-null  int64  \n",
      " 10  text                          14640 non-null  object \n",
      " 11  tweet_coord                   1019 non-null   object \n",
      " 12  tweet_created                 14640 non-null  object \n",
      " 13  tweet_location                9907 non-null   object \n",
      " 14  user_timezone                 9820 non-null   object \n",
      "dtypes: float64(2), int64(2), object(11)\n",
      "memory usage: 1.7+ MB\n"
     ]
    }
   ],
   "source": [
    "df.info()"
   ]
  },
  {
   "cell_type": "code",
   "execution_count": 6,
   "metadata": {},
   "outputs": [
    {
     "data": {
      "text/plain": [
       "tweet_id                            0\n",
       "airline_sentiment                   0\n",
       "airline_sentiment_confidence        0\n",
       "negativereason                   5462\n",
       "negativereason_confidence        4118\n",
       "airline                             0\n",
       "airline_sentiment_gold          14600\n",
       "name                                0\n",
       "negativereason_gold             14608\n",
       "retweet_count                       0\n",
       "text                                0\n",
       "tweet_coord                     13621\n",
       "tweet_created                       0\n",
       "tweet_location                   4733\n",
       "user_timezone                    4820\n",
       "dtype: int64"
      ]
     },
     "execution_count": 6,
     "metadata": {},
     "output_type": "execute_result"
    }
   ],
   "source": [
    "df.isnull().sum()  #To check for Null Values "
   ]
  },
  {
   "cell_type": "markdown",
   "metadata": {},
   "source": [
    "## Exploratory Data Analysis :"
   ]
  },
  {
   "cell_type": "code",
   "execution_count": 7,
   "metadata": {},
   "outputs": [
    {
     "data": {
      "text/plain": [
       "United            3822\n",
       "US Airways        2913\n",
       "American          2759\n",
       "Southwest         2420\n",
       "Delta             2222\n",
       "Virgin America     504\n",
       "Name: airline, dtype: int64"
      ]
     },
     "execution_count": 7,
     "metadata": {},
     "output_type": "execute_result"
    }
   ],
   "source": [
    "df.airline.value_counts()"
   ]
  },
  {
   "cell_type": "code",
   "execution_count": 8,
   "metadata": {},
   "outputs": [
    {
     "data": {
      "text/plain": [
       "<matplotlib.axes._subplots.AxesSubplot at 0x1ef159c04c0>"
      ]
     },
     "execution_count": 8,
     "metadata": {},
     "output_type": "execute_result"
    },
    {
     "data": {
      "image/png": "[encoded data removed]",
      "text/plain": [
       "<Figure size 864x432 with 1 Axes>"
      ]
     },
     "metadata": {},
     "output_type": "display_data"
    }
   ],
   "source": [
    "plt.figure(figsize=(12,6))\n",
    "df.airline.value_counts().plot(kind='pie',autopct='%1.0f%%')"
   ]
  },
  {
   "cell_type": "code",
   "execution_count": 9,
   "metadata": {},
   "outputs": [
    {
     "data": {
      "text/plain": [
       "<matplotlib.axes._subplots.AxesSubplot at 0x1ef17ab8430>"
      ]
     },
     "execution_count": 9,
     "metadata": {},
     "output_type": "execute_result"
    },
    {
     "data": {
      "image/png": "[encoded data removed]",
      "text/plain": [
       "<Figure size 864x432 with 1 Axes>"
      ]
     },
     "metadata": {},
     "output_type": "display_data"
    }
   ],
   "source": [
    "plt.figure(figsize=(12,6))\n",
    "df.airline_sentiment.value_counts().plot(kind='pie',autopct='%1.0f%%')"
   ]
  },
  {
   "cell_type": "code",
   "execution_count": 10,
   "metadata": {},
   "outputs": [
    {
     "data": {
      "text/plain": [
       "<matplotlib.legend.Legend at 0x1ef17b0df70>"
      ]
     },
     "execution_count": 10,
     "metadata": {},
     "output_type": "execute_result"
    },
    {
     "data": {
      "text/plain": [
       "<Figure size 1008x576 with 0 Axes>"
      ]
     },
     "metadata": {},
     "output_type": "display_data"
    },
    {
     "data": {
      "image/png": "[encoded data removed]",
      "text/plain": [
       "<Figure size 432x288 with 1 Axes>"
      ]
     },
     "metadata": {
      "needs_background": "light"
     },
     "output_type": "display_data"
    }
   ],
   "source": [
    "plt.figure(figsize=(14,8))\n",
    "df.groupby(['airline','airline_sentiment'])['airline_sentiment'].count().unstack().plot(kind='bar')\n",
    "plt.legend()"
   ]
  },
  {
   "cell_type": "code",
   "execution_count": 11,
   "metadata": {},
   "outputs": [
    {
     "data": {
      "text/plain": [
       "<matplotlib.axes._subplots.AxesSubplot at 0x1ef17a7ff40>"
      ]
     },
     "execution_count": 11,
     "metadata": {},
     "output_type": "execute_result"
    },
    {
     "data": {
      "image/png": "[encoded data removed]",
      "text/plain": [
       "<Figure size 864x432 with 1 Axes>"
      ]
     },
     "metadata": {
      "needs_background": "light"
     },
     "output_type": "display_data"
    }
   ],
   "source": [
    "plt.figure(figsize=(12,6))\n",
    "sns.set_style('darkgrid')\n",
    "sns.barplot(x='airline_sentiment',y='airline_sentiment_confidence',data=df)"
   ]
  },
  {
   "cell_type": "code",
   "execution_count": 12,
   "metadata": {},
   "outputs": [
    {
     "data": {
      "text/html": [
       "<div>\n",
       "<style scoped>\n",
       "    .dataframe tbody tr th:only-of-type {\n",
       "        vertical-align: middle;\n",
       "    }\n",
       "\n",
       "    .dataframe tbody tr th {\n",
       "        vertical-align: top;\n",
       "    }\n",
       "\n",
       "    .dataframe thead th {\n",
       "        text-align: right;\n",
       "    }\n",
       "</style>\n",
       "<table border=\"1\" class=\"dataframe\">\n",
       "  <thead>\n",
       "    <tr style=\"text-align: right;\">\n",
       "      <th></th>\n",
       "      <th>tweet_id</th>\n",
       "      <th>airline_sentiment_confidence</th>\n",
       "      <th>negativereason_confidence</th>\n",
       "      <th>retweet_count</th>\n",
       "    </tr>\n",
       "  </thead>\n",
       "  <tbody>\n",
       "    <tr>\n",
       "      <th>tweet_id</th>\n",
       "      <td>1.000000</td>\n",
       "      <td>0.024840</td>\n",
       "      <td>0.021533</td>\n",
       "      <td>-0.008852</td>\n",
       "    </tr>\n",
       "    <tr>\n",
       "      <th>airline_sentiment_confidence</th>\n",
       "      <td>0.024840</td>\n",
       "      <td>1.000000</td>\n",
       "      <td>0.685879</td>\n",
       "      <td>0.012581</td>\n",
       "    </tr>\n",
       "    <tr>\n",
       "      <th>negativereason_confidence</th>\n",
       "      <td>0.021533</td>\n",
       "      <td>0.685879</td>\n",
       "      <td>1.000000</td>\n",
       "      <td>0.021574</td>\n",
       "    </tr>\n",
       "    <tr>\n",
       "      <th>retweet_count</th>\n",
       "      <td>-0.008852</td>\n",
       "      <td>0.012581</td>\n",
       "      <td>0.021574</td>\n",
       "      <td>1.000000</td>\n",
       "    </tr>\n",
       "  </tbody>\n",
       "</table>\n",
       "</div>"
      ],
      "text/plain": [
       "                              tweet_id  airline_sentiment_confidence  \\\n",
       "tweet_id                      1.000000                      0.024840   \n",
       "airline_sentiment_confidence  0.024840                      1.000000   \n",
       "negativereason_confidence     0.021533                      0.685879   \n",
       "retweet_count                -0.008852                      0.012581   \n",
       "\n",
       "                              negativereason_confidence  retweet_count  \n",
       "tweet_id                                       0.021533      -0.008852  \n",
       "airline_sentiment_confidence                   0.685879       0.012581  \n",
       "negativereason_confidence                      1.000000       0.021574  \n",
       "retweet_count                                  0.021574       1.000000  "
      ]
     },
     "execution_count": 12,
     "metadata": {},
     "output_type": "execute_result"
    }
   ],
   "source": [
    "df.corr()"
   ]
  },
  {
   "cell_type": "code",
   "execution_count": 13,
   "metadata": {},
   "outputs": [
    {
     "data": {
      "text/plain": [
       "<matplotlib.axes._subplots.AxesSubplot at 0x1ef17be4970>"
      ]
     },
     "execution_count": 13,
     "metadata": {},
     "output_type": "execute_result"
    },
    {
     "data": {
      "image/png": "[encoded data removed]",
      "text/plain": [
       "<Figure size 432x288 with 2 Axes>"
      ]
     },
     "metadata": {},
     "output_type": "display_data"
    }
   ],
   "source": [
    "sns.heatmap(df.corr(),annot=True)"
   ]
  },
  {
   "cell_type": "markdown",
   "metadata": {},
   "source": [
    "## Data Cleaning :"
   ]
  },
  {
   "cell_type": "markdown",
   "metadata": {},
   "source": [
    "#### Tweets contain many slang words and punctuation marks. We need to clean our tweets before they can be used for training the machine learning model. However, before cleaning the tweets, let's divide our dataset into feature and label sets."
   ]
  },
  {
   "cell_type": "code",
   "execution_count": 14,
   "metadata": {},
   "outputs": [],
   "source": [
    "features=df.iloc[:,10]\n"
   ]
  },
  {
   "cell_type": "code",
   "execution_count": 15,
   "metadata": {},
   "outputs": [
    {
     "data": {
      "text/plain": [
       "0                      @VirginAmerica What @dhepburn said.\n",
       "1        @VirginAmerica plus you've added commercials t...\n",
       "2        @VirginAmerica I didn't today... Must mean I n...\n",
       "3        @VirginAmerica it's really aggressive to blast...\n",
       "4        @VirginAmerica and it's a really big bad thing...\n",
       "                               ...                        \n",
       "14635    @AmericanAir thank you we got on a different f...\n",
       "14636    @AmericanAir leaving over 20 minutes Late Flig...\n",
       "14637    @AmericanAir Please bring American Airlines to...\n",
       "14638    @AmericanAir you have my money, you change my ...\n",
       "14639    @AmericanAir we have 8 ppl so we need 2 know h...\n",
       "Name: text, Length: 14640, dtype: object"
      ]
     },
     "execution_count": 15,
     "metadata": {},
     "output_type": "execute_result"
    }
   ],
   "source": [
    "features"
   ]
  },
  {
   "cell_type": "code",
   "execution_count": 16,
   "metadata": {},
   "outputs": [],
   "source": [
    "labels=df.iloc[:,1]"
   ]
  },
  {
   "cell_type": "code",
   "execution_count": 17,
   "metadata": {},
   "outputs": [
    {
     "data": {
      "text/plain": [
       "0         neutral\n",
       "1        positive\n",
       "2         neutral\n",
       "3        negative\n",
       "4        negative\n",
       "           ...   \n",
       "14635    positive\n",
       "14636    negative\n",
       "14637     neutral\n",
       "14638    negative\n",
       "14639     neutral\n",
       "Name: airline_sentiment, Length: 14640, dtype: object"
      ]
     },
     "execution_count": 17,
     "metadata": {},
     "output_type": "execute_result"
    }
   ],
   "source": [
    "labels"
   ]
  },
  {
   "cell_type": "markdown",
   "metadata": {},
   "source": [
    "## Text Cleaning :"
   ]
  },
  {
   "cell_type": "code",
   "execution_count": 18,
   "metadata": {},
   "outputs": [],
   "source": [
    "import re\n",
    "from nltk.corpus import stopwords\n",
    "import string\n"
   ]
  },
  {
   "cell_type": "code",
   "execution_count": 19,
   "metadata": {},
   "outputs": [],
   "source": [
    "process_feat=[]\n",
    "\n",
    "for text in range(0,len(features)):\n",
    "    process_feats=re.sub('[^a-zA-Z]' , \" \",str(features[text]))\n",
    "    #process_feats=[x.lower() for x in process_feats.split() if x.lower() not in stopwords.words('english')]\n",
    "    \n",
    "    \n",
    "   \n",
    "    process_feat.append(process_feats)"
   ]
  },
  {
   "cell_type": "code",
   "execution_count": 20,
   "metadata": {},
   "outputs": [
    {
     "data": {
      "text/plain": [
       "[' VirginAmerica What  dhepburn said ',\n",
       " ' VirginAmerica plus you ve added commercials to the experience    tacky ',\n",
       " ' VirginAmerica I didn t today    Must mean I need to take another trip ',\n",
       " ' VirginAmerica it s really aggressive to blast obnoxious  entertainment  in your guests  faces  amp  they have little recourse',\n",
       " ' VirginAmerica and it s a really big bad thing about it',\n",
       " ' VirginAmerica seriously would pay     a flight for seats that didn t have this playing  it s really the only bad thing about flying VA',\n",
       " ' VirginAmerica yes  nearly every time I fly VX this  ear worm  won t go away   ',\n",
       " ' VirginAmerica Really missed a prime opportunity for Men Without Hats parody  there  https   t co mWpG grEZP',\n",
       " ' virginamerica Well  I didn t but NOW I DO    D',\n",
       " ' VirginAmerica it was amazing  and arrived an hour early  You re too good to me ',\n",
       " ' VirginAmerica did you know that suicide is the second leading cause of death among teens      ',\n",
       " ' VirginAmerica I  lt   pretty graphics  so much better than minimal iconography   D',\n",
       " ' VirginAmerica This is such a great deal  Already thinking about my  nd trip to  Australia  amp  I haven t even gone on my  st trip yet   p',\n",
       " ' VirginAmerica  virginmedia I m flying your  fabulous  Seductive skies again  U take all the  stress away from travel http   t co ahlXHhKiyn',\n",
       " ' VirginAmerica Thanks ',\n",
       " ' VirginAmerica SFO PDX schedule is still MIA ',\n",
       " ' VirginAmerica So excited for my first cross country flight LAX to MCO I ve heard nothing but great things about Virgin America     DaysToGo',\n",
       " ' VirginAmerica  I flew from NYC to SFO last week and couldn t fully sit in my seat due to two large gentleman on either side of me  HELP ',\n",
       " 'I    flying  VirginAmerica     ',\n",
       " ' VirginAmerica you know what would be amazingly awesome  BOS FLL PLEASE        I want to fly with only you ',\n",
       " ' VirginAmerica why are your first fares in May over three times more than other carriers when all seats are available to select   ',\n",
       " ' VirginAmerica I love this graphic  http   t co UT GrRwAaA',\n",
       " ' VirginAmerica I love the hipster innovation  You are a feel good brand ',\n",
       " ' VirginAmerica will you be making BOS gt LAS non stop permanently anytime soon ',\n",
       " ' VirginAmerica you guys messed up my seating   I reserved seating with my friends and you guys gave my seat away       I want free internet',\n",
       " ' VirginAmerica status match program   I applied and it s been three weeks   Called and emailed with no response ',\n",
       " ' VirginAmerica What happened   ur vegan food options   At least say on ur site so i know I won t be able   eat anything for next   hrs  fail',\n",
       " ' VirginAmerica do you miss me  Don t worry we ll be together very soon ',\n",
       " ' VirginAmerica amazing to me that we can t get any cold air from the vents   VX     noair  worstflightever  roasted  SFOtoBOS',\n",
       " ' VirginAmerica LAX to EWR   Middle seat on a red eye  Such a noob maneuver   sendambien  andchexmix',\n",
       " ' VirginAmerica hi  I just bked a cool birthday trip with you  but i can t add my elevate no  cause i entered my middle name during Flight Booking Problems  ',\n",
       " ' VirginAmerica Are the hours of operation for the Club at SFO that are posted online current ',\n",
       " ' VirginAmerica help  left expensive headphones on flight    IAD to LAX today  Seat  A  No one answering L amp F number at LAX ',\n",
       " ' VirginAmerica awaiting my return phone call  just would prefer to use your online self service option   ',\n",
       " ' VirginAmerica this is great news   America could start flights to Hawaii by end of year http   t co r p Zy fe  via  Pacificbiznews',\n",
       " 'Nice RT  VirginAmerica  Vibe with the moodlight from takeoff to touchdown   MoodlitMonday  ScienceBehindTheExperience http   t co Y O uNxTQP',\n",
       " ' VirginAmerica Moodlighting is the only way to fly  Best experience EVER  Cool and calming      MoodlitMonday',\n",
       " ' VirginAmerica  freddieawards Done and done  Best airline around  hands down ',\n",
       " ' VirginAmerica when can I book my flight to Hawaii  ',\n",
       " ' VirginAmerica Your chat support is not working on your site  http   t co vhp GtDWPk',\n",
       " ' VirginAmerica View of downtown Los Angeles  the Hollywood Sign  and beyond that rain in the mountains  http   t co Dw nf ibtr',\n",
       " ' VirginAmerica Hey  first time flyer next week   excited  But I m having a hard time getting my flights added to my Elevate account  Help ',\n",
       " ' VirginAmerica plz help me win my bid upgrade for my flight      LAX    gt SEA          ',\n",
       " ' VirginAmerica I have an unused ticket but moved to a new city where you don t fly  How can I fly with you before it expires   travelhelp',\n",
       " ' VirginAmerica are flights leaving Dallas for Seattle on time Feb    ',\n",
       " ' VirginAmerica I m  elevategold for a good reason  you rock  ',\n",
       " ' VirginAmerica  DREAM http   t co oA dRfAoQ  http   t co lWWdAc kHx',\n",
       " ' VirginAmerica wow this just blew my mind',\n",
       " ' VirginAmerica  ladygaga  carrieunderwood After last night  tribute  SoundOfMusic  Oscars      ladygaga  I think  carrieunderwood agree',\n",
       " ' VirginAmerica  ladygaga  carrieunderwood All were entertaining',\n",
       " ' VirginAmerica Is flight     on it s way  Was supposed to take off    minutes ago  Website still shows  On Time  not  In Flight   Thanks ',\n",
       " ' VirginAmerica  ladygaga  carrieunderwood Julie Andrews all the way though  ladygaga was very impressive  NO to  Carrieunderwood',\n",
       " ' VirginAmerica wish you flew out of Atlanta    Soon ',\n",
       " ' VirginAmerica  ladygaga  carrieunderwood Julie Andrews  Hands down ',\n",
       " ' VirginAmerica Will flights be leaving Dallas for LA on February   th ',\n",
       " ' VirginAmerica hi  i m so excited about your     LGA  gt DAL deal  but i ve been trying   book since last week  amp  the page never loads  thx ',\n",
       " ' VirginAmerica you know it  Need it on my spotify stat  guiltypleasures',\n",
       " ' VirginAmerica  ladygaga  carrieunderwood  I m Lady Gaga    She is amazing   ',\n",
       " ' VirginAmerica  ladygaga  carrieunderwood   Carrie ',\n",
       " ' VirginAmerica New marketing song  https   t co F LFULCbQ  let us know what you think ',\n",
       " ' VirginAmerica  ladygaga  carrieunderwood Julie Andrews first but Lady Gaga wow d me last night  Carrie  Meh ',\n",
       " ' VirginAmerica I called a     weeks ago about adding   flights from      to my Elevate   they still haven t shown up   help ',\n",
       " ' VirginAmerica  ladygaga  carrieunderwood all are great   but I have to go with  CarrieUnderwood   ',\n",
       " ' VirginAmerica  LadyGaga  CarrieUnderwood Sorry  Mary Martin had it first ',\n",
       " ' VirginAmerica  ladygaga  carrieunderwood  love all three but you really can t beat the classics ',\n",
       " ' VirginAmerica Flight      DAL to DCA          pm  Tried to check in could not  Status please ',\n",
       " ' VirginAmerica heyyyy guyyyys   been trying to get through for an hour  can someone call me please    ',\n",
       " ' VirginAmerica Hi  Virgin  I m on hold for       minutes    are there any earlier flights from LA to NYC tonight  earlier than      pm ',\n",
       " ' VirginAmerica Congrats on winning the  Travelzoo award for Best Deals from an Airline  US  http   t co kj iljaebV',\n",
       " ' VirginAmerica everything was fine until you lost my bag',\n",
       " ' virginamerica Need to change reservation  Have Virgin credit card  Do I need to modify on phone to waive change fee  Or can I do online ',\n",
       " ' VirginAmerica I emailed your customer service team  Let me know if you need the tracking number ',\n",
       " ' VirginAmerica hi I just booked a flight but need to add baggage  how can I do this ',\n",
       " ' VirginAmerica your airline is awesome but your lax loft needs to step up its game      for dirty tables and floors  http   t co hy VrfhjHt',\n",
       " ' VirginAmerica not worried  it s been a great ride in a new plane with great crew  All airlines should be like this ',\n",
       " ' VirginAmerica awesome  I flew yall Sat morning  Any way we can correct my bill  ',\n",
       " ' VirginAmerica Or watch some of the best student films in the country at        feet   CMFat     feet http   t co KEK pDMGiF',\n",
       " ' VirginAmerica first time flying you all  do you have a different rate policy for media Bags  Thanks',\n",
       " ' VirginAmerica what is going on with customer service  Is there anyway to speak to a human asap  Thank you ',\n",
       " ' VirginAmerica what happened to Doom  ',\n",
       " ' VirginAmerica why can t you supp the biz traveler like  SouthwestAir  and have customer service like  JetBlue  neverflyvirginforbusiness',\n",
       " ' VirginAmerica I ve applied more then once to be a member of the  inflight crew team   Im      interested   flightattendant  dreampath  G',\n",
       " ' VirginAmerica you re the best   Whenever I  begrudgingly  use any other airline I m delayed and Late Flight   ',\n",
       " ' VirginAmerica I have no interesting flying with you after this  I will Cancelled Flight my next four flights I planned  neverflyvirginforbusiness',\n",
       " ' VirginAmerica it was a disappointing experience which will be shared with every business traveler I meet   neverflyvirgin',\n",
       " ' VirginAmerica I m having trouble adding this flight my wife booked to my Elevate account  Help  http   t co pX hQOKS R',\n",
       " ' VirginAmerica Can t bring up my reservation online using Flight Booking Problems code',\n",
       " ' VirginAmerica Random Q  what s the distribution of elevate avatars  I bet that kitty has a disproportionate share http   t co APtZpuROp ',\n",
       " ' VirginAmerica I  lt   Flying VA But Life happens and I am trying to  change my trip JPERHI  Can you help VA home page will not let me  ',\n",
       " ' VirginAmerica Why is the site down   When will it be back up ',\n",
       " ' VirginAmerica  You down with RNP    Yeah you know me  ',\n",
       " ' VirginAmerica hi  i did not get points on my elevate account for my most recent flight  how do i add the flight and points to my account ',\n",
       " ' VirginAmerica I like the TV and interesting video   Just disappointed in Cancelled Flightled flight when other flights went out to jfk on Saturday  ',\n",
       " ' VirginAmerica just landed in LAX  an hour after I should of been here  Your no Late Flight bag check is not business travel friendly  nomorevirgin',\n",
       " ' VirginAmerica why is flight     redirected ',\n",
       " ' VirginAmerica Is it me  or is your website down   BTW  your new website isn t a great user experience   Time for another redesign ',\n",
       " ' VirginAmerica I can t check in or add a bag  Your website isn t working  I ve tried both desktop and mobile http   t co AvyqdMpi Y',\n",
       " ' VirginAmerica   Let   scanned in passengers leave the plane than told someone to remove their bag from  st class bin   uncomfortable',\n",
       " ' virginamerica What is your phone number  I can t find who to call about a flight reservation ',\n",
       " ' VirginAmerica is anyone doing anything there today   Website is useless and no one is answering the phone ',\n",
       " ' VirginAmerica trying to add my boy Prince to my ressie  SF this Thursday  VirginAmerica from LAX http   t co GsB J c gM',\n",
       " ' VirginAmerica why must a traveler miss a flight to Late Flight check a bag   I missed my morning appointments and you lost my business   sfo lax',\n",
       " ' VirginAmerica check out new music http   t co maRcnOCWzn',\n",
       " ' virginamerica how s a direct flight FLL  gt SFO have unexpected layover in Vegas   fuel yet peeps next to me bought for Vegas flight   sneaky',\n",
       " ' VirginAmerica your no Late Flight bag check just lost you my business  I missed flight and AM apt  Three other people on flight had same exp ',\n",
       " ' VirginAmerica   amazing customer  service  again     RaeAnn in SF   she s the best   customerservice  virginamerica  flying',\n",
       " ' VirginAmerica called your service line and was hung up on  This is awesome   sarcasm',\n",
       " ' VirginAmerica your site is tripping  I m trying to check in and I m getting the plain text version  I am reluctant to enter any card info ',\n",
       " ' VirginAmerica I was scheduled for SFO   DAL flight     today  Changed to   th due weather  Looks like flight still on ',\n",
       " ' VirginAmerica has getaway deals through May  from     one way  Lots of cool cities http   t co tZZJhuIbCH  CheapFlights  FareCompare',\n",
       " ' VirginAmerica has getaway deals through May  from     one way  Lots of cool cities http   t co RPdBpX wNd  CheapFlights  FareCompare',\n",
       " ' VirginAmerica has getaway deals through May  from     one way  Lots of cool cities http   t co B Xi YG T   CheapFlights  FareCompare',\n",
       " ' VirginAmerica has getaway deals through May  from     one way  Lots of cool cities http   t co QDlJHslOI   CheapFlights  FareCompare',\n",
       " ' VirginAmerica Have a great week   ',\n",
       " ' VirginAmerica come back to  PHL already  We need you to take us out of this horrible cold   pleasecomeback http   t co gLXFwP nQH',\n",
       " ' VirginAmerica should I be concerned that I am about to fly on a plane that needs to be delayed due to a  tech stop  ',\n",
       " ' VirginAmerica is the best airline I have flown on Easy to change your reservation helpful representatives  amp  a comfortable flying experience',\n",
       " ' VirginAmerica and again  Another rep kicked butt  Naelah represents your team so beautifully   Thank you   ',\n",
       " ' VirginAmerica your beautiful front end design is down right now  but it was cool to still book my ticket b c all your back end was secure ',\n",
       " ' VirginAmerica Love the team running Gate E  at LAS tonight  Waited for a delayed flight  and they kept things entertaining',\n",
       " ' VirginAmerica Use another browser        amp  a brand with a reputation built on tech response doesn t have a cross browser compatible website ',\n",
       " ' VirginAmerica And now the flight Flight Booking Problems site is totally down  Folks  what is the problem ',\n",
       " ' VirginAmerica I like the customer service but a    min delay just for connecting passengers seems too long  VA   ',\n",
       " ' VirginAmerica thanks to your outstanding NYC JFK crew who moved mountains to get me home to San Francisco tonight ',\n",
       " ' VirginAmerica you have the absolute best team and customer service ever   Every time I fly with you I m delighted   Thank you ',\n",
       " ' VirginAmerica Do you provide complimentary upgrades to first class  if there are available seats ',\n",
       " ' VirginAmerica i need to change my flight thats scheduled in   hours and     min wait time on phone  Im calling intern  Help  ',\n",
       " ' VirginAmerica completely awesome experience last month BOS LAS nonstop  Thanks for such an awesome flight and depart time   VAbeatsJblue',\n",
       " ' VirginAmerica How can I watch the  Oscars     on my JFK  gt SFO flight ',\n",
       " ' VirginAmerica is flight     Cancelled Flightled and what do I do if it is ',\n",
       " ' VirginAmerica you are failing your customers because your check in process does not link to TSA pre check ',\n",
       " ' VirginAmerica  FiDiFamilies us too  Terrible airline  Just gave us a hotel hotline number and said sorry',\n",
       " ' VirginAmerica has flight number     from SFO to Cabo San Lucas arrived yet ',\n",
       " ' VirginAmerica  ChrysiChrysic your assistance yesterday when u Cancelled Flightled our flight was to give us a hotel hotline  Shame on you ',\n",
       " ' VirginAmerica Another delayed flight   likingyoulessandless',\n",
       " ' VirginAmerica I need to register a service dog for a first class ticket from SFO  gt  Dulles  The phone queue is an hour or longer  Pls advise',\n",
       " ' virginamerica you ROCK for making it so I can watch  Oscars on my flight    redcarpet  oscars  oscars    ',\n",
       " ' VirginAmerica   reallytallchris dropped a track on you    https   t co zv pt TRK ',\n",
       " ' VirginAmerica always    Xoxo',\n",
       " ' VirginAmerica why can t we book seats on your flights when we buy them or even during check in  Creates so much anxiety   frustrated',\n",
       " ' VirginAmerica You d think paying an extra      bucks RT for luggage might afford you hiring an extra hand at  sfo  lame',\n",
       " ' VirginAmerica best customer service rep in the world   irmafromDallas takes the cake   ',\n",
       " ' VirginAmerica Can you find us a flt out of LAX that is sooner than midnight on Monday  That would be great customer service  ',\n",
       " ' VirginAmerica please provide status for flight       I cant imagine it s on time as the Web indicates  dude to weather here and or Dallas',\n",
       " ' VirginAmerica you have amazing staff  amp  super helpful as I just ran the  WaltDisneyWorld  PrincessHalf they have spoiled me with comfort   ',\n",
       " ' VirginAmerica I paid the premium to fly you across the country  you Cancelled Flight my flight and offer no check fee or upgrade love  Sad face   ',\n",
       " ' VirginAmerica question  is it not possible to book a seat for an infant under    It s not giving me the option but we want a seat for him ',\n",
       " 'Always have it together    You re welcome  RT  VirginAmerica   jessicajaymes You re so welcome ',\n",
       " ' virginamerica  flight home to  dc  sunset  globe in   backtowinter back to  work   refreshed http   t co VX vBCTdLf',\n",
       " '  VirginAmerica I don t understand why you need a DM to give me an answer on if you have a damaged luggage policy ',\n",
       " '  VirginAmerica does that mean you don t have a policy for destroyed luggage ',\n",
       " ' VirginAmerica is there special assistance if I travel alone w   kids and   infant  Priority boarding ',\n",
       " ' VirginAmerica thank you for checking in  tickets are purchased and customer is happy    ',\n",
       " ' VirginAmerica is your website ever coming back online ',\n",
       " ' VirginAmerica    Is Flight     from Love Field to SFO definitely Cancelled Flightled for Monday  February    ',\n",
       " ' VirginAmerica Is flight      out of LGA to DFW on time ',\n",
       " ' VirginAmerica my drivers license is expired by a little over a month  Can I fly Friday morning using my expired license ',\n",
       " ' VirginAmerica having problems Flight Booking Problems on the web site  keeps giving me an error and to contact by phone   phone is    minute wait ',\n",
       " ' VirginAmerica How do I reschedule my Cancelled Flightled flights online  The change button is greyed out ',\n",
       " ' VirginAmerica I rang  but there is a wait for    minutes   I can book the same ticket through a vendor  fix your site',\n",
       " ' VirginAmerica got a flight  we were told  for      today   checked my email and its for      TOMORROW  This is unacceptable ',\n",
       " ' VirginAmerica our flight into lga was Cancelled Flighted  We re stuck in Dallas  I called to reschedule  told I could get a flight for today        ',\n",
       " ' virginamerica why don t any of the pairings include red wine   Only white is offered     redwineisbetter',\n",
       " ' VirginAmerica is the website down ',\n",
       " ' VirginAmerica   Your site seems a little wonked right now  May want to have a look  Tried on two browsers  No CSS  http   t co  qsQMM KF ',\n",
       " ' VirginAmerica I m disappointed that the agent at the designated silver status check in line  Dulles Airport closed to assist all pasengers',\n",
       " ' VirginAmerica Plans to Include Austin to its Dallas Route   TopNews Arab  Emirates http   t co aqZWecOkk ',\n",
       " ' VirginAmerica Is it normal to receive no reply from Central Baggage  baggageissues  smh',\n",
       " ' VirginAmerica at Logan airport and waiting to checkin for my  am flight  Checkin desk not open       Why  ',\n",
       " ' VirginAmerica to jump into the Dallas Austin market    Dallas News http   t co EwwGi  gdx',\n",
       " ' VirginAmerica Beats EPS Views  Takes On  SouthwestAir VA LUV   Investor s Business Daily http   t co FLwmGDAHxu',\n",
       " ' VirginAmerica Lister to my show my on Monday         ',\n",
       " ' VirginAmerica to begin Dallas Austin  flights in April        KETR http   t co SSUVWwkyHH',\n",
       " ' VirginAmerica congrats  you just got all my business from EWR to SFO LAX  Fuck you  united fl     SFO EWR was the clincher   ',\n",
       " ' VirginAmerica  I applied over   weeks ago  Haven t heard back and I m flying this week  disappointed',\n",
       " ' VirginAmerica I d love to know what your policy is for damaged luggage ',\n",
       " ' VirginAmerica Thank you for the follow',\n",
       " ' VirginAmerica   too many apologies  You r the worse airlines  Don t even respond to your cudtomers',\n",
       " ' VirginAmerica shame on VA for making people spend money in stranded cities when other airlines are landing at JFK  Who will reimburse me ',\n",
       " ' VirginAmerica  TTINAC   I DM you',\n",
       " ' VirginAmerica can you please have flights in  SJC   I have no choice but to fly Southwest to Vegas   ',\n",
       " ' VirginAmerica too bad you say it takes    to    days via YOUR confirmation email  When I inquired after   weeks you claim   to   weeks ',\n",
       " ' VirginAmerica Flight from BOS  gt  LAS tomorrow was Cancelled Flightled  No notification  wait times are    hour  Will you rebook on another airline ',\n",
       " '  RT  VirginAmerica  You ve met your match  Got status on another airline  Upgrade   restr   http   t co RHKaMx VF   http   t co PYalebgkJt',\n",
       " ' VirginAmerica Only way to fly   Elevate  Gold',\n",
       " ' VirginAmerica If only you guys had flights from CMH ',\n",
       " ' VirginAmerica a lot of  apologies  being thrown out to customers from what I can see Very sad  Thanks for nothing  Worst airline ever ',\n",
       " ' VirginAmerica  for all my flight stuff wrong and did nothing about it  Had  worst  flight ever',\n",
       " ' VirginAmerica Having an issue finding a missing item on a plane  Can you help me find which airport my plane headed to next ',\n",
       " ' VirginAmerica you will match my  AmericanAirlines status  Cool ',\n",
       " '  VirginAmerica You ve met your match Got status on another airline  Upgrade   http   t co H   rDKTqy   asarco ES ar    ',\n",
       " ' VirginAmerica trying to book a flight with you guys and your website won t let me    about to lose my business',\n",
       " ' VirginAmerica you suck ',\n",
       " ' VirginAmerica thanks ',\n",
       " ' VirginAmerica Just DM d  Same issue persisting ',\n",
       " ' VirginAmerica Because we never rec d Cancelled Flightlation notice we were left w no options to fly out of PS  Driving to LA for a red eye Mon w kids',\n",
       " ' VirginAmerica trying to book a flight  amp  your site is down  ',\n",
       " ' VirginAmerica You have any flights flying into Boston tomorrow  I need to be home and you Cancelled Flightled my flight and didn t do anything',\n",
       " ' VirginAmerica you stink  Flight Cancelled Flighted from PSP to JFK and no notification or ability to rebook  disappointed    expected better',\n",
       " ' VirginAmerica I love your guy s song  We re dancing to it for our high school dance revue',\n",
       " ' VirginAmerica Your website is down and I m trying to check in ',\n",
       " ' VirginAmerica done  Thank you for the quick response  apparently faster than sitting on hold   ',\n",
       " ' VirginAmerica nervous about my flight from DC to LAX getting Cancelled Flightled tomorrow  Just sent you a DM to help me ',\n",
       " ' VirginAmerica cool picture of another VirginAmerica plane off our wing  What a site  http   t co  B agFd c ',\n",
       " ' VirginAmerica Keep up the great work   ',\n",
       " ' VirginAmerica my goodness your people  love field are amazing under pressure   from Texas  beatstheothers in crisis Please fly me to NY',\n",
       " ' VirginAmerica Thanks for a great flight from LA to Boston  Pilots did a great job landing in the snow  Can we go back to LA now   seriously',\n",
       " ' VirginAmerica can you please get me to the new york area before monday afternoon',\n",
       " ' VirginAmerica Thanks so much for the awesome support  you guys rock ',\n",
       " ' VirginAmerica seats in Row   don t recline should mention that on your website  soreback',\n",
       " ' VirginAmerica flight     delayed   hours in LA due to mechanical problems  Handle like pros but you could have tossed us a free drink ',\n",
       " ' VirginAmerica why Cancelled Flight flights today  No precipitation to be scared of         ',\n",
       " ' VirginAmerica twitter team  you guys killed it for rescheduling me asap  thank you ',\n",
       " ' VirginAmerica You guys charged me      to reschedule a flight that was then Cancelled Flighted and are now refusing to refund it  What s the deal ',\n",
       " ' VirginAmerica can t access your website from Safari on iPhone    Seems to work on Mac and iPad  Need iPhone to add Passbook ',\n",
       " ' VirginAmerica on iPad and iPhone  clicking the CHECKIN link in the email I received at   hrs before flight',\n",
       " ' VirginAmerica your mobile site is broken  shows     header elevateUser numOfPointsAvailable          number   Points   won t let me checkin',\n",
       " ' VirginAmerica I was really looking forward to my flight  can you let me know when it will be rescheduled   diehardvirgin',\n",
       " ' VirginAmerica why Cancelled Flight flight VX     One sec its delayed  on my to airport  the next its Cancelled Flightled Gonna email or call me to reschedule ',\n",
       " ' VirginAmerica I did it but there was a problem in the link from the email for check in  thanks',\n",
       " ' VirginAmerica had to change to another airline to get to DC today     Why is  united able to land in DC but not you  Cost me         ugh',\n",
       " ' VirginAmerica I was so looking forward to my first flight with you today but it was Cancelled Flightled along with the subsequent one    ',\n",
       " ' VirginAmerica when are you putting some great deals from PDX to LAS or from LAS to PDX show me your love  http   t co enIQg buzj',\n",
       " ' VirginAmerica wish I can afford to fly with you next Friday  going back home   love everything  about your airline',\n",
       " ' VirginAmerica  how are you gonna have a deal from Dallas to DC but no deal from DC to Dallas   sad',\n",
       " ' VirginAmerica it s just a bug report  guys',\n",
       " ' VirginAmerica hold times at call center are a bit much',\n",
       " ' VirginAmerica Like http   t co VPqEm  XUQ',\n",
       " ' VirginAmerica Site down   help',\n",
       " ' VirginAmerica You have the best flight attendant ever    http   t co PxdEL nq l',\n",
       " 'Awesome  RT  VirginAmerica  Watch nominated films at        feet   MeetTheFleet  Oscars http   t co DnStITRzWy',\n",
       " ' VirginAmerica thanks so much ',\n",
       " ' VirginAmerica Trying to reset my password  email never arrives  Help ',\n",
       " ' VirginAmerica  the only airline based in Silicon Valley   disruption  FCmostinnovative  incubator   FastCompany s http   t co wU LbCNcr ',\n",
       " ' VirginAmerica Very nicely done   ',\n",
       " ' VirginAmerica I m looking forward to watching the Oscars on my flight home tomorrow  I might even get something bubbly to drink    ',\n",
       " ' VirginAmerica What is the reason  for the delay of the departure of VX     from JFK this afternoon ',\n",
       " ' VirginAmerica is todays flight from Palm Springs  Ca to JFK in NY Cancelled Flightled ',\n",
       " ' VirginAmerica hahaha   VirginAmerica YOU GUYS ARE AMAZING  I LOVE YOU GUYS    ',\n",
       " ' VirginAmerica sounds like fun  ',\n",
       " ' VirginAmerica any updates on flight     from Jfk  gt  Lax',\n",
       " ' virginamerica spruce moose ',\n",
       " ' VirginAmerica the CSS on your site is a     right now  please fix  Site unusable ',\n",
       " ' VirginAmerica We re on flight     Vegas to Boston today  checked in online but our bag count didn t register  Can I fix that somehow ',\n",
       " ' VirginAmerica classiq  luv Virgin America  Greetingz',\n",
       " ' VirginAmerica Hi  I m trying to do check in but the website is not working  I tried   different browsers and the problem continues',\n",
       " ' VirginAmerica Thanks for your great customer service today  amp  for helping me get all my travel sorted out ',\n",
       " ' VirginAmerica thanks guys  Sweet route over the Rockies  airplanemodewason',\n",
       " ' VirginAmerica love the   s music blasting at gate in  Boston while waiting for flight to  SanFrancisco  Only if I could get an iced coffee ',\n",
       " ' VirginAmerica   the passenger in  D  Flt     that assaulted me shouldn t have flown  I trust he s banned  Crew filed report to  FAANews',\n",
       " ' VirginAmerica current bug on website shows  select departure city  when selecting destination city http   t co SLLYIBE vQ',\n",
       " ' VirginAmerica luggage was severely dented missing wheel coming off baggage claim in SAN  Luggage agent Miranda  I think  wasn t any help ',\n",
       " ' VirginAmerica thank you for the easy itinerary shift for impending weather  Quick  painless  amp  free ',\n",
       " ' VirginAmerica If you d love to see more girls be inspired to become pilots  RT our free WOAW event March     at ABQ  http   t co rfXlV kGDh',\n",
       " ' VirginAmerica Thanks  Good times there and back   Vodkatonics the entire flight  sfo',\n",
       " ' VirginAmerica beats expectations  shares take off   Santa Cruz Sentinel http   t co qm dQbai G',\n",
       " ' VirginAmerica any plans to start flying direct from DAL to LAS ',\n",
       " ' VirginAmerica BIG Love gratitude mpower w  http   t co  AGR knCpf weRin  OSCARS     VIPswagbags   AvalonHollywood http   t co ybMbGs dHn',\n",
       " ' VirginAmerica  you re doing a great job adding little luxuries aesthetics that improve the air travel experience  Thank you  Keep it up ',\n",
       " ' VirginAmerica requested window seat and confirmed window but got stuck in middle seat  Not a good way to treat silver member ',\n",
       " ' VirginAmerica Grand Budapest Hotel  OscarsCountdown',\n",
       " ' VirginAmerica This is what you missed  NewsVP  Next trip to the     ',\n",
       " ' VirginAmerica  wtf I paid for direct flight on purpose not to have to stop for fuel exhausted frequent flier and nothing for inconvenience ',\n",
       " ' VirginAmerica there is something wrong with you website in Safari iPhone',\n",
       " ' VirginAmerica thanks for gate checking my baggage on your full flight dfw lax     and giving me early boarding too  sweet',\n",
       " ' VirginAmerica Already checked in so the page expired  X',\n",
       " ' VirginAmerica Boo for a not refunding a seat upgrade fee I did not want to buy in the first place ',\n",
       " ' VirginAmerica shares rise on Q  financial results   USA TODAY http   t co lFS PEFE y',\n",
       " ' VirginAmerica Adds Pillows Instead of Lie Flat Seats in First Class Arms Race http   t co rGYwJBbhm ',\n",
       " ' VirginAmerica I see what you did there   ',\n",
       " ' VirginAmerica way to take advantage of  MayweatherPacquiao   ',\n",
       " ' VirginAmerica you know I m flying virgin for the fight  MayweatherPacquiao',\n",
       " ' VirginAmerica your inflight team makes the experience  amazing ',\n",
       " ' VirginAmerica cutest salt and pepper shaker ever  Just when I think you guys can t get any better you just do  http   t co vC Keulg J',\n",
       " ' VirginAmerica moved my seat with no notice   Better seat  is cabin select not behind the row I selected   DISAPPOINTED',\n",
       " ' VirginAmerica shares up on  Q results    iol http   t co XZ qeG nef',\n",
       " ' VirginAmerica fav airline',\n",
       " ' VirginAmerica we have a hot female pilot  Sweet  DCA to SFO     ',\n",
       " '        When are you guys going to start flying to Paris   VirginAmerica   LizaUtter You re welcome  ',\n",
       " ' VirginAmerica what is your policy on flying after surgery   I am still waiting for answer so I can tell me doctor ',\n",
       " ' VirginAmerica already contacted Central Baggage  amp  sent DM   RenttheRunway is charging me for the dress that was in the lost suitcase  help',\n",
       " ' VirginAmerica Thank you  ',\n",
       " ' VirginAmerica Is there anything going on with the website  I ve been getting a lot of errors past    minutes ',\n",
       " ' VirginAmerica I think i left something on the plane yesterday  who do i call   ah ',\n",
       " ' VirginAmerica I need you to follow back in order to DM ',\n",
       " ' VirginAmerica Need to start flying to  KCIAirport        ',\n",
       " ' VirginAmerica they told to check with the airline regulation first so that is why I contacted you ',\n",
       " ' VirginAmerica  VirginAtlantic I have just checked in flight to SFO from LAX  amp  been told as Atlantic Flying Club Gold I get no benefits  ',\n",
       " ' VirginAmerica husband and I ordered three drinks via my screen and they never came  Awesome ',\n",
       " ' VirginAmerica soooo are you guys going to leave the seatbelt light on all flight  You can barely call this turbulence    ',\n",
       " ' VirginAmerica what is your policy on flying after surgery ',\n",
       " ' VirginAmerica posts second consecutive full year net profit    ATWOnline http   t co tvB zbzVhg',\n",
       " ' VirginAmerica Funny story  your website is broken  you have missing javascript and stylesheets on the checkin process  I dislike this ',\n",
       " ' VirginAmerica would love to do more for virgin just like I do for  GoPro',\n",
       " ' VirginAmerica Results Handily Exceed Forecasts    NYTimes http   t co gonmRwEM I',\n",
       " ' VirginAmerica I applied for a position in  flyLAXairport  and I was wondering if you guys received my application ',\n",
       " ' VirginAmerica achieves a second year of profitability despite revenue pressure        CAPA Aviation http   t co zSuZTNAIJq',\n",
       " ' VirginAmerica gives positive outlook  but sees increased competition    Reuters http   t co jEu Od eYJ',\n",
       " ' VirginAmerica I m trying to check into my      AM CT flight tmm on the desktop website and it s not working  some sort of caching bug  SOS',\n",
       " ' VirginAmerica weather delays  gt  next few weeks     JFK  BOS  DCA',\n",
       " ' VirginAmerica  madbee   check the website before you go to the airport ',\n",
       " ' VirginAmerica Do you guys know your check in links from emails are broken  http   t co  npXB oBMr',\n",
       " ' VirginAmerica pilot says we expect a choppy landing in NYC due to some gusty winds w a temperature of about   degrees  amp  w the windchill   ',\n",
       " ' VirginAmerica loved it  Can t wait for Monday s return flight    Mostly just to watch the inflight safety video again   sorrynotsorry',\n",
       " ' VirginAmerica lost my luggage   days ago on flight VX     from LAX to IAD  amp  I m calling every day  no response Please give me back my stuff',\n",
       " ' VirginAmerica The Flight Booking Problems section of your website seems to be broken on Chrome  Might wanna look into that ',\n",
       " ' VirginAmerica Hi  Just wanted to see if you have any new routes planned this year for Newark  Love flying you guys and hope to do so more ',\n",
       " ' VirginAmerica I mean  Probably inappropriate while on board   But  it s on ',\n",
       " ' VirginAmerica happy to spend the day together  Let s do this ',\n",
       " ' VirginAmerica is saving my sanity right now  http   t co ELtBOLjUl ',\n",
       " ' VirginAmerica missed my flight  How does standby work ',\n",
       " '  VirginAmerica They were very understanding and helped me out   Thx   Comps',\n",
       " ' VirginAmerica brought it all the way across the country today I see http   t co TKaUyGcPmS',\n",
       " ' VirginAmerica thank you  I absolutely will  ',\n",
       " ' virginamerica Looks like a broken link for your assets https   t co OArDjjGrrD',\n",
       " ' VirginAmerica are you ready   Let s say it together    Noooo turbulence today    ',\n",
       " ' virginamerica the manage itinerary section of your website seems to be broken for me https   t co  pUJvCElNg',\n",
       " ' VirginAmerica can t check in  your site looks like this every time it loads http   t co kAcY AwDbW',\n",
       " ' VirginAmerica can u help this    FreyaBevan Fund needs urgent treatment in   y old battling cancer could u help with flights   freyasfund',\n",
       " ' virginamerica may start service to Hawaii from  SanFrancisco this year http   t co yPo nYpRZl  biztravel',\n",
       " ' virginAmerica Other carriers are less than half price for a round trip fare  I am stunned  http   t co UKdjjijroW',\n",
       " ' VirginAmerica WTF is happening in PDX Late Flight March such that one way from SFO is       ',\n",
       " ' VirginAmerica add DTW and I m sold ',\n",
       " ' VirginAmerica How about some free drinks on the flight back for the free promo ',\n",
       " ' VirginAmerica  SSal thanks ',\n",
       " ' VirginAmerica momma I made it     ',\n",
       " ' VirginAmerica please contact me about portfolio left on flight VX    from JFK to SFO tonite seat  AM  Need it returned  Call              ',\n",
       " ' VirginAmerica help  I was On  Flight     from JKF tonight  seat  C left portfolio  Need it back  ',\n",
       " ' VirginAmerica  shrinerack Seattle bound  Wifey got me the duffle for vday  She s a keeper    Holla    http   t co JlOIbLnair',\n",
       " ' VirginAmerica my luggage is gone  I ve filed my paperwork  promised a call email  Still no resolution or response from central luggage ',\n",
       " ' VirginAmerica Debbie Baldwin gave a  rockstar performance of the safety demo this evening on VX     LAS SFO  BestCrew  SheRocks',\n",
       " ' VirginAmerica Thanks ',\n",
       " ' VirginAmerica thanks for taking care of  SuuperG on her flight    rockstars  travel',\n",
       " ' VirginAmerica Thanks for the lovely soft views   travel  SAN to  SFO http   t co CnctL G ef',\n",
       " ' VirginAmerica I requested a mileage challenge for status several weeks ago online but haven t heard back  How do I get help with this ',\n",
       " ' VirginAmerica Just trying to book tickets to NYC and facing super fun broken styling  Don t worry  I ll keep trying   ',\n",
       " ' VirginAmerica Many Thanks for the Follow   ourprincess  freyasfund  USA  Bandie  Looking for Any Help              http   t co UJfS Zi kd',\n",
       " ' VirginAmerica Nice  Lofty View  flyLAXairport   SilverStatus http   t co F Tp dAwbd',\n",
       " ' VirginAmerica Applied for Status Match on Feb    Got confirmation email same day  Still no news though  You guys have dropped ball Late Flightly  ',\n",
       " ' VirginAmerica is my new go to airline',\n",
       " ' VirginAmerica  VirginAtlantic  GMA  AmericanAir  Can You Help  ourprincess in need of some help in  USA          http   t co    AzTDaer',\n",
       " ' VirginAmerica I adore you  and am so looking forward to my flight to Austin in two weeks ',\n",
       " ' VirginAmerica I was so glad it was mentioned  I took my first virgin flight a few years back and it was a transformative experience ',\n",
       " ' VirginAmerica Flight Booking Problems flight to uphold my status match   Do taxes on ticket count as earned status points    statusmatch  virginamerica',\n",
       " ' VirginAmerica trying to check in   but looks like your site is down ',\n",
       " ' VirginAmerica spending my birthday night with you  DAL DCA  Get me home ',\n",
       " ' VirginAmerica Sent a couple messages to the email you provided but to no avail  Will try again next year  Cheers ',\n",
       " ' VirginAmerica first time flying Virgin  went to  SanFrancisco  Thanks for the smooth ride  Easily my new fav airline ',\n",
       " ' VirginAmerica seriously  though  will there not be direct flights from SFO FLL in may   ',\n",
       " ' VirginAmerica It s fine  Already done with my purchase  But you should try it  Just go most of the way through then go back  ',\n",
       " ' virginamerica not really the experience I was hoping    I ws forced   check in a small carry on  w  nothing but empty cabin space on board',\n",
       " ' VirginAmerica wjere is our luggage  so slow at lax',\n",
       " ' VirginAmerica to jump into the  Dallas  Austin market http   t co SzR pioA  ',\n",
       " ' VirginAmerica I spoke with a representative that offered no solution  I am a loyal customer who flies on  VirginAtlantic as well',\n",
       " ' VirginAmerica I am deeply disappointed that your birthday promo was not applied to a trip I booked mere days before I received the email',\n",
       " ' VirginAmerica what happened to direct flights from SFO FLL  Looking in May  only see connecting  help  dontdothistome',\n",
       " ' virginamerica   Can you help  Left my blazer in  Kooples jacket bag at  rd row second seat from right gate    T  lax   Flight to sfo',\n",
       " ' VirginAmerica partners with  Visa Checkout as mobile payment method to help boost mobile conversion rates  etailwest  payments  visa',\n",
       " ' VirginAmerica just promoting the product is all  had a problem with southwest and recommend noneother than the best  http   t co tFaNXBh Cf',\n",
       " ' VirginAmerica love you guys  but pls get some direct routes LAS to AUS ',\n",
       " ' VirginAmerica i would like help with some flights please ',\n",
       " 'Bruh   VirginAmerica   giannilee Turn down for what   VXSafetyDance ',\n",
       " ' VirginAmerica of course  I work for  VirginAtlantic and I m obsessed with the entire Virgin family  ',\n",
       " ' VirginAmerica ok  first time flying with you tonight   ',\n",
       " ' virginamerica Digging the swanky pink mood lighting during the flight from NYC to SFO   Just needs a cabaret singer   Think about it ',\n",
       " ' VirginAmerica Done  but I need the receipt ASAP  Could you please help                ',\n",
       " ' VirginAmerica I have  d and  d embossed badges and patches superior to the ones you are currently using   http   t co  fq XElbOn',\n",
       " ' VirginAmerica on VX    from JFK to LA   dirty plane   not up to your standards ',\n",
       " ' VirginAmerica on flight VX    headed to LA from JFK   dirtiest VA plane I have ever been on  Sad for a great airline ',\n",
       " ' VirginAmerica got it squared away  Someone picked up as soon as I tweeted  Should have tweeted sooner   ',\n",
       " ' VirginAmerica your Avis rental continue button doesn t work on your website to book car  Tried   times on phone   This sucks ',\n",
       " ' VirginAmerica delayed to       ',\n",
       " ' VirginAmerica currently in minute    of being on hold with cust  service  Do I need to do anything to add a lap child to my reservation ',\n",
       " ' VirginAmerica Adds Pillows Instead of Lie Flat Seats in First Class Arms Race  http   t co SfjDuahx Z by  skift',\n",
       " '  VirginAmerica   KarinSLee Of course  Have fun celebrating   Thanks  Happy Chinese New Year ',\n",
       " ' VirginAmerica  Flight Booking Problems last second flight for next week from SFO  to SAN any chance you want to gift me a promo code since I love you guys',\n",
       " ' VirginAmerica Comenity Bank is a joke   Please change   Nothing but constant problems with this bank',\n",
       " ' VirginAmerica I just did  how can I DM  Do u have to also add me ',\n",
       " ' VirginAmerica For my Grandma Ella s   th  she would  lt   a bday greeting from your flight crew  She was a stewardess for Eastern Airlines ',\n",
       " ' VirginAmerica Just bought tix for ATX   Dallas route   thanks for adding that  Love yr airline  amp  yr website is BEST transactional site EVER',\n",
       " ' VirginAmerica Anytime  sugafly ',\n",
       " ' VirginAmerica gave a credit for my Late Flight flight yesterday  Great service      That s a Wow moment  Unexpected gesture ',\n",
       " ' VirginAmerica I need a receipt for a flight change  Can you send one ',\n",
       " ' VirginAmerica  I submitted a status match request a while back and still haven t heard  I m flying on Monday  Can you look   accelerate ',\n",
       " ' VirginAmerica had me at their safety video       http   t co CqMm nuE m  LOVED my first cross country flight   livewelltraveled  sytycd',\n",
       " ' VirginAmerica that doesn t look to fat to me  It looks yummy ',\n",
       " ' VirginAmerica CEO says  Southwest  amp   jetblue have strayed from low cost model  http   t co   Sctomh  ',\n",
       " ' VirginAmerica a brilliant brisk am in Boston in cue for vx    http   t co rMZNIVGmg ',\n",
       " ' VirginAmerica Atlantic ploughs a lone furrow in the  MiddleEast http   t co FVUdmh  pF  TheNationalUAE',\n",
       " ' VirginAmerica Atlantic ploughs a lone furrow in the  MiddleEast http   t co DCoBoKN EE  TheNationalUAE',\n",
       " ' VirginAmerica Atlantic ploughs a lone furrow in the  MiddleEast http   t co vw P T tLh  TheNationalUAE',\n",
       " ' VirginAmerica omg omg   nonstop Dallas to Austin on virgin    ',\n",
       " ' VirginAmerica Your planes are really pretty  Just thought u should know that    ',\n",
       " ' VirginAmerica when are you flying to hawaii',\n",
       " ' VirginAmerica I m pulling my hair out trying to book a flight with u  Your site doesn t work on iPhone or iPad don t have a computer  help',\n",
       " ' VirginAmerica thank you',\n",
       " ' VirginAmerica Can I get some help with a support ticket  It s been    days     Incident                Thank you ',\n",
       " ' VirginAmerica good to be home  texas  moodlighting http   t co N BVZTY zI',\n",
       " ' VirginAmerica I cannot even open my laptop in seat  C and I paid a premium for this      Let me out of here ',\n",
       " ' VirginAmerica I am in seat  C and I cannot even open my laptop  and I paid extra for this seat  ',\n",
       " '  VirginAmerica If only you guys were starting those flights at the end of the month  Guess I m still road tripping on Feb    ',\n",
       " ' VirginAmerica thanks for that  Been needing a way to make those Austin trips from DCA  and now you ve come through ',\n",
       " ' VirginAmerica announced New Route to Austin w fares from     way   http   t co gA pbamu C',\n",
       " ' VirginAmerica Really  Sprint  I thought you guys were  kewl      ',\n",
       " ' VirginAmerica this is too cool   Never been on ur planes but now I will  ',\n",
       " ' VirginAmerica you should have    dollar LAX Las fares   ',\n",
       " ' VirginAmerica great  Well deserved ',\n",
       " ' VirginAmerica FYI the info virginamerica com email address you say to contact in password reset emails doesn t exist  Emails bounce ',\n",
       " ' VirginAmerica Status match     weeks have gone by and no news Flt next week   hope flt will count towards requirement   Cust Svc no help   ',\n",
       " ' VirginAmerica your website sucks donkey dicks  Just thought you should know  All best ',\n",
       " ' VirginAmerica You should still develop an app   then you will be my favorite airline ',\n",
       " ' VirginAmerica all crap channels which is why I pay to watch UK tv',\n",
       " ' VirginAmerica got it  All set   Thanks ',\n",
       " ' VirginAmerica no A s channel this year ',\n",
       " ' VirginAmerica Only thing I see on passbook is Virgin Mobile Mexico  How do I integrate ',\n",
       " ' VirginAmerica Giants and Virgin America  A match made in heaven ',\n",
       " ' VirginAmerica thank goodness   Also  see you friday  nwk gt sf   BOOM ',\n",
       " ' VirginAmerica how come you don t have an iPhone app  Still using and making me waste paper ',\n",
       " ' VirginAmerica Your back of seat entertainment system does not accept credit cards that  have an apostrophe in the surname   apostrophefail',\n",
       " ' VirginAmerica When will VX use all   LGA slots instead of   today  Adding AUS makes this less likely   ',\n",
       " ' VirginAmerica is helping me step up my  Tinder game   TinderTips  tinderchamp http   t co jBmVVha  A',\n",
       " ' VirginAmerica I luv ur people and product    thing is y do u charge for herbal tea but not black tea  I m not a caffeine drinker',\n",
       " ' VirginAmerica thank you  See y all soon  I m excited to see the expansion of destinations  Spread those wings ',\n",
       " ' VirginAmerica announces new nonstop connecting  AUStinAirport  amp   DallasLoveField      intro  http   t co qXnOaQtYN  http   t co JK qmdfqgf',\n",
       " ' VirginAmerica adds Austin Dallas Love Field route  http   t co XWJoL  FLH http   t co Y AOrMfkaC',\n",
       " ' VirginAmerica sad to learn you no longer fly SFO  gt  PHL  Hope it returns ',\n",
       " ' VirginAmerica   can you tweet me the Cancelled Flight chng fee for a flight  or can I rebook under one of your affiliates  If so  who are afiliates ',\n",
       " ' VirginAmerica has the most INCREDIBLE customer service I ve ever experienced  So refreshing ',\n",
       " ' VirginAmerica Now  when will we see VirginAmerica come to Philadelphia  PHL  ',\n",
       " ' VirginAmerica   am I dreaming  Did you really just open up a route between Dallas and Austin   And does this mean Houston might be next ',\n",
       " ' VirginAmerica OMG FINALLY',\n",
       " ' VirginAmerica to start  xweekly  A    flights from to  Dallas  DallasLoveField  Austin on   APR  avgeek',\n",
       " ' VirginAmerica Nice to see you expanding in Texas but don t forget about us here in  SanDiego  I would love to see more flights out of here ',\n",
       " ' VirginAmerica kinda sucked my earphone jack didn t work on my flight  They may want to look into that for future passengers',\n",
       " ' VirginAmerica Very poor experience  First computer problem now seat malfunction  Stuck  Missing meeting in San Diego ',\n",
       " ' VirginAmerica to battle  SouthwestAir on  DallasLoveField  AUStinAirport route  http   t co  RLz EBk X via  usatoday',\n",
       " ' VirginAmerica  thankyou the DAL AUS route makes my day    ',\n",
       " ' virginamerica awesome deals DAL AUS for only     each way  https   t co xCVQXYkg  ',\n",
       " ' VirginAmerica I miss the  nerdbird in San Jose',\n",
       " ' VirginAmerica love it  taking  SouthwestAir on in their backyard  Consumers win when biz competes ',\n",
       " ' VirginAmerica   is flying from Love to Austin now  That is most excellent news ',\n",
       " ' VirginAmerica can we make every VX plane with  nerdbird  Why should Austin be the only one getting nerd love ',\n",
       " ' VirginAmerica please add more frequency to PDX Portland',\n",
       " ' VirginAmerica Congrats VX on the new route     ',\n",
       " ' VirginAmerica I tried that  You offered to charge me an additional   k for a new ticket or be stranded until Thurs   st time  last time ',\n",
       " ' VirginAmerica  AmericanAir can u help with flights to get a  y old battling cancer who needs treatment in     FreyaBevan Fund      ',\n",
       " ' VirginAmerica Never had a bad experience before  but this one took the cake  Now extortion for carry on items as well ',\n",
       " ' VirginAmerica Had to spend   hours worrying that items in carryon would be broken stolen since I couldn t carry them on plane or lock bag ',\n",
       " ' VirginAmerica All of group E was told there was no more room in the bins  when I got on the plane  was room for at least   bags in my row ',\n",
       " ' VirginAmerica Thanks for making my flight from LAX to JFK a nightmare by forcing me to check my carry on bag at the gate     ',\n",
       " ' VirginAmerica I have lots of flights to book and your site it not working     I ve been on the phone waiting for over    minutes          ',\n",
       " ' VirginAmerica I am all about the in flight artisanal cheese and wine pairing ',\n",
       " ' VirginAmerica does Virgin America fly direct from Seattle to NYC or Boston ',\n",
       " ' VirginAmerica That s classy ',\n",
       " ' VirginAmerica I m sure a lot of your     and     JFK LHR flights go a lot faster than    mph with a strong tailwind ',\n",
       " ' VirginAmerica now it s just t minus    minutes until my Elevate a Silver upgrade window opens    FreeNeverSucks   ',\n",
       " ' VirginAmerica save some for     tomorrow AM ',\n",
       " ' VirginAmerica Why is it taking    years to fly home to Dallas  Get your shit together ',\n",
       " ' VirginAmerica  JezzieGoldz club Virgin is bumping in New York http   t co HaQc GDg c',\n",
       " ' VirginAmerica  JezzieGoldz would have been a rough trip but LUCKILY we were on a  virginamerica flight   weather',\n",
       " ' VirginAmerica is that  thestarter   ',\n",
       " ' VirginAmerica    Please come to Minneapolis St  Paul ',\n",
       " ' VirginAmerica YES FYI  MY BFF',\n",
       " ' VirginAmerica another perfect flight    How come on your planes   the sun visors can stay down   Other carriers make you raise them ',\n",
       " 'Nice RT  VirginAmerica  The man of steel might be faster  but we have WiFi   just saying   ScienceBehindTheExperience http   t co FGRbpAZSiX',\n",
       " ' VirginAmerica I love the dancing little richard  cool beans ',\n",
       " ' VirginAmerica I don t use Passbook    I still love you though  lt      I ll just use my email in the future ',\n",
       " ' VirginAmerica thanks for the free birthday points  y all are ALL RIGHT with me ',\n",
       " ' VirginAmerica do you have an application for iOS  Was looking and only saw Virgin Mexico     lt   ',\n",
       " ' VirginAmerica Man of steel flies to more cities though   and with more frequency too ',\n",
       " ' VirginAmerica thanks so much for sharing  Just added it to my site http   t co TsviBTvT h',\n",
       " ' VirginAmerica Good point ',\n",
       " '  VirginAmerica I heard he has a virgin mobile hotspot   ',\n",
       " ' VirginAmerica you got cheese pLate Flights too ',\n",
       " ' VirginAmerica On all your flights ',\n",
       " ' VirginAmerica Dad on Segway is the best part of this whole infographic ',\n",
       " ' VirginAmerica Are there any plans for a short haul airline in Europe  Would defiantly fly with you guys   ',\n",
       " ' VirginAmerica wifi AND better seating ',\n",
       " ' VirginAmerica how come ABC is the only one of the network channels you don t have ',\n",
       " ' VirginAmerica started my flight with a scolding for using an overhead bin that was then offered to the person seated next to me ',\n",
       " '  VirginAmerica not only was it great  but you return my calls the day after  Couldn t ask for more   myVXexperience',\n",
       " ' VirginAmerica While other airlines weren t Cancelled Flighting flights into BOS  and helping their customers get home  Virgin was saying Good luck ',\n",
       " ' VirginAmerica Dear Virgin customer  while you re stranded in SF for   days  amp       cost  we ll do the very least we can to accommodate you ',\n",
       " ' VirginAmerica should use this in their next airline commercial lol    http   t co pXEXIlSjBs',\n",
       " ' VirginAmerica Grouping Virgin in with the others now  BOS weather has exposed their actual Cus Serv model  Never Flight Booking Problems with Virgin again ',\n",
       " ' VirginAmerica As one of the travelers affected by the Boston storm  I m shocked at Virgin s complete apathy toward their customers ',\n",
       " ' VirginAmerica Umm so no reason as to why this is  Is there someone different I should contact  or contact me  to get a definitive answer ',\n",
       " ' virginamerica Trying to make the change in advance  not just    hours prior  tried it online earlier and it wanted      in change fees ',\n",
       " ' VirginAmerica so loyal that I m driving to  NYC from  PA  to fly Virgin   since you cut  Philly flights   ',\n",
       " ' virginamerica Any way to change from Main Cabin to Main Cabin Select  on same flight  without paying a change fee penalty ',\n",
       " ' VirginAmerica you guys are perfect as always   lt    WeRVirgin',\n",
       " ' VirginAmerica thanks  Y all have some of the best customer service left in the industry ',\n",
       " ' VirginAmerica Can you give me Silver Status for    months ',\n",
       " ' VirginAmerica really wish you d fly out of  Fargo  fargoairport those fares are amazings',\n",
       " ' VirginAmerica mood lighting on point  Reclining my seat  kickin up my feet ',\n",
       " ' VirginAmerica my flight        scheduled for  pm departure still says on time but no plane at gate  Any update on how long of a delay ',\n",
       " ' VirginAmerica my group got their Cancelled Flightlation fees waived but I can t because my ticket is booked for       Your reps were no help either  ',\n",
       " ' VirginAmerica Are there any sign up bonuses to enroll in Elevate ',\n",
       " ' VirginAmerica just got on the  pm in Newark home to LA  Your folks at EWR are incredible  letsgohome',\n",
       " ' VirginAmerica morning  If I have a question regarding elevate points  amp  flights can I DM you ',\n",
       " ' VirginAmerica still waiting to see   Starryeyes Dev    ',\n",
       " ' VirginAmerica was wondering if you guys recieved my dm and we re able to potentially respond asap',\n",
       " ' VirginAmerica Flying LAX to SFO and after looking at the awesome movie lineup I actually wish I was on a long haul ',\n",
       " '  VirginAmerica  Book out of town with fares from     way   restr   http   t co xRdTOV nl  http   t co  Y  byAckc   JenniferDawnPro',\n",
       " ' united thanks',\n",
       " ' united Thanks for taking care of that MR   Happy customer ',\n",
       " ' united still no refund or word via DM  Please resolve this issue as your Cancelled Flightled flight was useless to my assistant s trip ',\n",
       " ' united Delayed due to lack of crew and now delayed again because there s a long line for deicing    Still need to improve service  united',\n",
       " ' united thanks    we filled it out  How s our luck with this  Is it common ',\n",
       " ' united Your ERI ORD express connections are hugely popular    now if only we could have an ERI EWR hop    ',\n",
       " ' united even on international flight Glasgow to the U S   Then what about orlando to Newark  All    mins ',\n",
       " ' united you think you boarded flight AU     too early  I think so ',\n",
       " ' united I understand  but it s tough when there is no way to get to the airport w o serious risk of an accident  It s a steep price ',\n",
       " ' united Gate agent hooked me up with alternate flights  If you have a way to PREVENT the constant issues  that would rock ',\n",
       " ' united flying gla mco in a few weeks  How long do we have to be at airport for before departure for both international and domestic  Ta',\n",
       " ' united thanks',\n",
       " ' united Thanks  It is on the same ticket ',\n",
       " ' united why not  Is it a law or a policy ',\n",
       " ' united is the worst  Nonrefundable First class tickets  Oh because when you select Global FC their system auto selects economy w upgrade ',\n",
       " ' united  CheerTymeDad So I can buy tix   days before flight but can t transfer the tix   Flawed security logic  Flawed customer service',\n",
       " ' united I did start a claim but      weeks is unrealistic  am I really supposed to go that long with out a car seat for my child Ridiculous ',\n",
       " ' united follow me please this airline is beautifull  ',\n",
       " ' united no I don t  but I m sure United have my info on its system ',\n",
       " ' united if the car seat is lost  united should just reimburse me for a new one  this is not a pair of shoes  it s a necessity for my child',\n",
       " ' united Just submitted my response on the link you sent ',\n",
       " ' united yes  David Allan send an email with this number  KMM        V     L KM  and case        ',\n",
       " ' united  highbuddyyy that totally sucks my cousin worked at PHL said  united',\n",
       " ' united just wanted to let you know how wonderful Rosetta the gate agent was working flight      Dan to Ase  Let her know she wasappreciated',\n",
       " ' united yes  a paper voucher that I got on January   th     ',\n",
       " ' united beginning of Feb I called United they said they would send another voucher by mail  Never got anything   tiredofwaiting',\n",
       " ' United the internet is a great thing   I am emailing executives in your company  maybe they will respond to me in a timely manner ',\n",
       " ' united Do I need to use a Chase United Club pass for my  yr old son  or can he come in with me on my pass ',\n",
       " ' united and what am I suppose to do with that number ',\n",
       " ' united thats weak  See ya   Hey  VirginAmerica   ',\n",
       " ' united I flew back w other company since United didnt have an earlier flight',\n",
       " ' united I lost a voucher that I was given in Miami aeroport on jan     I did not use it ',\n",
       " ' united I am trying to book awards for September and need flights on  aegeanairlines but they will not show even w  many award seats availab',\n",
       " ' united I sure did    I had to drive a total of   hours to get my own bag   I d like to explain that debacle but no one wants to talk to me ',\n",
       " ' united  CheerTymeDad Gee that s like almost caring about ppl more than      Think I m more int in having a trusted adult w  daughter  ',\n",
       " ' united See  We were told repeatedly that the pilot was Late Flight and kept getting Late Flightr   After we boarded  there was a defibrillator issue ',\n",
       " ' united why no preferred security line anymore  My TSA pre check didn t pull on my  SilverAirways partner flight   Platinum  spoiled',\n",
       " ' united  Newarkliberty Airport need to indicate different gate  s for terminals A amp C   Flyingainteasy',\n",
       " ' united yes please  I am newly married and trying to update my last name on a preexisting international flight  It seems so easy  but   ',\n",
       " ' united How does United refuse to reissue a      lost voucher when their plane didn t take off due to mechanics   badcustomerservice',\n",
       " ' united also during the run I was instructed to do  I shattered my computer  http   t co oAflfr WXB',\n",
       " ' united yes  we ve been with the agents for the last    minutes  One of the agents have been very rude  but thankfully Ladan has been nice ',\n",
       " ' united that s right  with an overnight Miami ',\n",
       " ' united Have clients with an    hr layover at IAH  during the day   Will they have to claim  amp  recheck luggage  Or will it be taken care of ',\n",
       " ' united I am trying to find out if the loaner seat is new or used  a used car seat is illegal according to safety regulations',\n",
       " ' united i DMed you the details',\n",
       " ' united iah to charlotte  Baggage claim rep latrice h   customerservice non existent  Ignored customer then inappropriately touched customer',\n",
       " ' united Kewl  Will also let them know the overhead bin over my row was  Inop   I love a good abbreve ',\n",
       " ' united   thanks for your help   got me what I need  but its an issue with   austrian   I guess I sit awhile longer ',\n",
       " ' united  UCtraveladvisor   I would have loved to respond to your website until I saw the really long form  In business the new seats are bad',\n",
       " ' united A refund and flight vouchers or another flight on a different airline at your expense for today    hour drive is very inconvenient',\n",
       " ' united then why have I not received my call back its been   days   it s an infant car seat how am I supposed to go anywhere with my child',\n",
       " ' united thanks again for your concern  I will contact customer care upon our return from Australia ',\n",
       " ' United well sitting on the ground  on time  but waiting for a gate    again  tiredofthis',\n",
       " ' united  Airport snow removal method         Keep up the good work folks  this is where Cessna s become     s  http   t co  v tMUsJvU',\n",
       " ' united No  I need you guys to not over book planes  It s not a concern  I ll just travel with someone else moving forward ',\n",
       " ' united A measly     e certificate is not how you appreciate loyal customers after they wait  hrs on the tarmac during UA       unacceptable',\n",
       " ' united When will email address username sign on be available  It s been a while ',\n",
       " ' united Thank you for that  Am I able to claim any interim expenses or is the cost of the stuff up on me ',\n",
       " ' united rude rude',\n",
       " ' united   Why can t I get a boarding pass for my Austrian Airlines codeshare flight  Rebook incls a   hour layover  amp  I am stuck outside sec',\n",
       " ' united    I received on other flights   united  truly breaks guitars   unitedbreaksguitars  wantmymoneyback',\n",
       " ' united just flew to  TelAviv paid      from a third suitcase which didn t even make it on the plane  Besides for the impolite service   ',\n",
       " ' United  My bag is still in Colo Springs  I am disabled and have to search an unfamiliar airport and look for my bag  Not a good outcome',\n",
       " ' united Shame that there s no flex to tickets transfer rules   Even calling from Neurosurgery ICU isn t enough ',\n",
       " ' united No  Denver said they don t handle baggage that made it to Colo  Springs   They gave me an     number to call  No help there either ',\n",
       " ' united you guys need some serious training in customer service  Too many better options to put up with the way you guys handle ur mistakes',\n",
       " ' united      ORD to DCA',\n",
       " ' united once he found out we had a problem he avoided me like the plague  Was told  we can t find a supervisor  ',\n",
       " ' united ZCC  U Cancelled Flight flight   h in advance    Need connect flight reschedule so the link isn t helping  Help   Gf waited months to see me ',\n",
       " ' united I will not be flying you again',\n",
       " ' united in addition  my first flight was delayed an hour and I m arriving at my destination   hrs Late Flight ',\n",
       " ' united Cancelled Flighted our flight  didn t rebook us on added flight  now have to drive from a Denver to KC    thanks ',\n",
       " ' united your announcement for pre boarding only addresses mobility  My disability requires me to travel with a lot of stuff  Do I preboard ',\n",
       " ' united I flew United last month and the experience was AWESOME ',\n",
       " ' united our travel booked thru United group dept  Okc ticket agent less than willing to help with our connection in LAX ',\n",
       " ' united v upset with your disability   services   When I told one of your employees I was carrying medical equipment she was very rude ',\n",
       " ' united thnx for quick reply but don t think you can assist  Our intl grp will be put to considerable inconvenience today ',\n",
       " ' united wont transfer flight ticket to accompany an    yr old who s active military mom had to have emergency brain surgery  WOW  ',\n",
       " ' united  getmeontop   WEEKS Late FlightR AND I STILL HAVE NOT RECEIVED MY MILES FROM THE MileagePlus Gift Card      STARBUCKS CARD I HANDED OVER   ',\n",
       " ' united as a  k  I m always hoping for improvement ',\n",
       " ' united not yet  I complained about the guy who checked my luggage in as he was throwing the bags around  Unfortunate coincidence I hope ',\n",
       " ' united OKC ticket agent Roger McLarren sp   LESS than helpful with our Intl group travel problems Can t find a supervisor for help ',\n",
       " ' united mobile apps need construction from the ground up for each OS category   It s expensive to get right  ',\n",
       " ' united another fail for the United ticket agents in OKC  LESS than helpful and could care less about our problems  American here we come ',\n",
       " ' united      which also had   working WC in coach  Good thing this bird landed ahead of schedule  I have to use the WC stat ',\n",
       " ' united the os isn t controlled by me but rather  VerizonWireless    App is new ',\n",
       " ' united I just sent an email to Customer Care  telling them I may have to break up with you    I sincerely hope they can help me  ',\n",
       " ' united silly I m flying delta today  Your united club staff and attendants are surly and unhelpful and always seem bothered by pesky folk',\n",
       " ' united What is your phone number  I can t find who to call about a flight reservation ',\n",
       " ' united well  you can t fix me missing my buddies   th bday because of negligence but you can attempt to make up for it ',\n",
       " ' united why am I to believe they will help when customer service couldn t  Like I said  I want a number to someone who can fix what you did ',\n",
       " ' united they helped me at the baggage service desk   Said bc TSA screening was down in FLL not all bags made it but bag will be in EWR     ',\n",
       " ' united Mobile boarding pass disappeared from phone while standing in line to board  Second time this week    Hmm ',\n",
       " ' united for the record  Rozana at Newark was lovely and helpful   choosekind',\n",
       " ' united It was last night s      ORD LGA ',\n",
       " ' united thx for update',\n",
       " ' united thank you  ',\n",
       " ' united dm these nuts',\n",
       " ' united Had to explain to a very over eager flight attendant trying to ask about my vision that my  ccicanine was not a guide dog ',\n",
       " ' united what s the point of asking for details about a  servicedog when you book if your flight crew doesn t read them   Continued ',\n",
       " ' united I tried but no one was available in bogota and everyone was rude in Houston  I was stuck for    hours because of you guys',\n",
       " ' united  worst unitedflightsever UA     LAS to IAD      mechanical problems again   took off   had to land for fix   delayed again  wtfodds ',\n",
       " ' united despite my bag not making it to Newark good informative email tracking updates help ',\n",
       " ' United  What s going on with UA       outbound flight last thurs was delayed  hrs How long will this delay be   worst unitedflightsever',\n",
       " ' united  worst unitedflightsever UA     IAD to LAS      mechanical problems   switched aircraft delayed     hours ',\n",
       " ' united crashed trying to check in ',\n",
       " ' united Wow  What a deal  Again      plus seats available  Easy change to make a customer happy ',\n",
       " ' united thanks for the info I already knew   ',\n",
       " ' united Airline trouble this winter  amp  not getting good customer service  contact http   t co aQjn HwNaC  we negotiate resolutions for You ',\n",
       " ' united on     to Logan   boarding gong show due to lax carry on enforcement  Bins full of coats   no room for bags  U need a better system ',\n",
       " ' united Thank you ',\n",
       " ' united Blackmailed me into paying      extra or having my return ticket nullified in San Francisco Airport  Terrible service from rep  scam',\n",
       " ' united is there an email address I can reach  Too long for a DM ',\n",
       " ' united disappointed that u didnt honor my      credit given to me for ur mistakes  Taking my business elsewhere    out ',\n",
       " ' united ua     still waiting  Supposed to depart     ',\n",
       " ' united it was credit from my last trip that never came in the mail ',\n",
       " ' united ok it s now been   months waiting to hear from airline  I gave them quite a bit more than the    days requested  Terrible service',\n",
       " ' united does this process ever end  Still waiting for the reply since   months  pathetic  customerservice',\n",
       " ' united What s going on with your website  I m Flight Booking Problems three tickets today and I ve been booted off the system umpteen times ',\n",
       " ' united how do I get my account number if your website says email is unavailable ',\n",
       " ' united So do I need to book two one ways in order for her to fly as an unaccompanied minor ',\n",
       " ' united I received   bag last night  I am still missing the other one ',\n",
       " ' united  simonroesner you ll need to upgrade the seats too  even in economy plus it s like sitting on a concrete bench ',\n",
       " ' united Pls Help Baby Hannah get the life saving surgeries she requires She needs your help Pls Donate RT http   t co kQnrrP  A ',\n",
       " ' united bet you wont honour them  like mine ey',\n",
       " ' united  nd flight also delayed no pilots  But they boarded is so we can just sit here   scheduling',\n",
       " ' united I guess that s too much ask  huh ',\n",
       " ' united but it s hard to stay upset at someone when they at least TRY to show remorse ',\n",
       " ' united By the way  a simple apology goes a long way  even if it s a hollow one  It s obvious that you don t care about me or my well being ',\n",
       " ' united This isn t a one time thing either  It s a shocking pattern of repeated neglect and disrespect ',\n",
       " ' united Fingers crossed  amp  its all intact  Very disappointed with this experience as before this we were actually saying we enjoyed using you',\n",
       " ' united It s an incredibly easy fix  but you would rather stay in your comfort zone  while I get forced out of mine ',\n",
       " ' united ours in July  You have ZERO excuses for this  You have an out of date system that causes problems like this ',\n",
       " ' united Everyone around us is sitting with their friends and family members  They booked their tickets in October and December  We bought',\n",
       " ' united Not sure what you are talking about  She is going on nonstop flights  SNA to SFO and then SFO to EWR ',\n",
       " '  united it will be because I m moving to  AmericanAir because of  united talk  no service',\n",
       " ' united please be good to me this weekend ',\n",
       " ' united I asked a legitimate question about systemwide vs  localized problems  and got back an unreLate Flightd copy paste  You can do better ',\n",
       " ' united what time  Who can I call  I need my skis  I will go to the airport and get them  No more faith in United ',\n",
       " ' united I see you guys are at it again  Amazing how one company continually makes mistakes yet fails to be held accountable for their error',\n",
       " ' united A Tourist Wonder  Super Tides and Tide of the Century at French and U K coasts  http   t co gXdqORtsS ',\n",
       " ' united Yeah sorry but there s always a problem with United  And you have an international reputation for having problems ',\n",
       " ' united yall should probably work on that ',\n",
       " ' united but then again  maybe the  BBBNE SD KS IA would care more to hear what went on than whoever listens to issues you caused',\n",
       " ' united I wonder if sharing all this on FB and insta would produce a number      characters really limits my story telling ',\n",
       " ' united so you re telling me there is no number to call after being left in an airport because of a negligent pilot and staff ',\n",
       " ' united Could this email be resent as it doesnt appear to have arrived ',\n",
       " ' united yes please  Trying to get to POP  in Newark now    ',\n",
       " ' united you have to follow me in order for me to DM   come on now',\n",
       " ' united     United coupon to make up for broken entertainment system on a   hour flight  seriously   Ridiculousness  learncustomerservice',\n",
       " ' united So they didn t drop my bag overnight  amp  now I m leaving for a week  This is why you were supposed to hold on to the bag    ',\n",
       " ' united I did DM the details but still no response  I have to book today ',\n",
       " ' united I know this is probably a no but is there a way to get a cheaper airfare ticket if the flight is leaving in a few hours   ',\n",
       " ' united can someone please explain the process of of what happens to property found on a plane after passengers leave at Heathrow  ',\n",
       " ' united not able to DM you my confirmation number',\n",
       " ' united I ve sent the message  let me know if you got it  I m not very twitter literate  Also  is he REALLY going to be stuck for   hrs ',\n",
       " ' united very unhappy at no response to complaint emailed on  nd Feb ref          Awful customer service ',\n",
       " ' united DM does not work what do I do ',\n",
       " ' united private jet would have been cool  Do does not work  I ll try again',\n",
       " ' united we were not given the option of using our United TravelBank in a recent Flight Booking Problems  Any help in using or recouping these funds  Thanks ',\n",
       " ' united common   keep your paper work ready and don t delay our flights       and meetings  ChooseChicago',\n",
       " ' united how about      YUL ORD ',\n",
       " ' united yep that s correct  I got an email at       am that the flight was Cancelled Flightled  doesn t matter now flight into atl is delayed  thx',\n",
       " ' united  k and had problem getting out of FLL to IAH  sent DM to you about making my connection  please let me know',\n",
       " ' united Done and done',\n",
       " ' united thanks  just sent   ',\n",
       " ' united I m grounded in Montreal with ua      I am missing my connection ua     to St  Louis  Can you help Do you have a private jet for me ',\n",
       " ' united I m so frustrated and nervous because of this ',\n",
       " ' united are the ones who make it difficult for me ',\n",
       " ' united I m not a child  I m someone who has an issue with flying and prepares ahead of time to reduce the distress caused by planes  You',\n",
       " ' united how does it get Cancelled Flightled    hours before take off ',\n",
       " ' united This ALWAYS happens with you guys  and it makes traveling incredibly stressful and uncomfortable  Is that good business to you ',\n",
       " ' united So what does someone with severe anxiety do when the one person who can help him isn t next to him ',\n",
       " ' united I m seeking to go   client  B c u cant get me there I need refund  I filled out form not confident it works if past is an indication',\n",
       " ' Thnx for the response  united bot  It seems this  improvement  could be easily attained  Is your  st Class service really only worth     ',\n",
       " ' united has unrivalled access to  California with flights to the U S  from   UK airports  with nonstop or one stop connections year round',\n",
       " ' united booked award tix on ThaiAirways but I m not seeing a conf  for them  just the United Flight Booking Problems   Can you get get the Thai  for me ',\n",
       " ' united Luckily I made my flights this time but was so disappointed with the lack of communication   ',\n",
       " ' united checking to see why flight       atl ord  got Cancelled Flighted ',\n",
       " ' united service so far has been horrid  We wanted to end the trip on a high note  Guess that s not an option ',\n",
       " ' united Booked a flight home over   months ago and requested seats together for my fianc e and I  We got   middle seats  UNACCEPTABLE  The',\n",
       " ' united YOU GUYS ARE HORRIBLE ',\n",
       " ' united thnx for the info',\n",
       " ' united Why do I have to pay      for wifi with an international business ticket    pennypincher',\n",
       " ' united ok  To top things off  you ve lost my luggage  Could you get ANY worse     UnitedAirlines',\n",
       " ' united kudos for not Cancelled Flightling flights from DFW this morning    United usually first to panic   ',\n",
       " ' united AND my luggage has been broken    youcouldntmakethis up  brokenwheel',\n",
       " ' united is flight     from DFW to ORD currently on time  I see an advisory that DFW may be affected by weather',\n",
       " ' united maybe one day you ll be the one quoted on http   t co mJkpgVXmPC',\n",
       " ' United flight delayed no one remembered to turn the heat on flight     leaving ORD seriously   ',\n",
       " ' united another awesome new plane flight      and extremely nice Captain Steve Connolly ',\n",
       " ' united to speak to a real person to get this resolved politely and efficiently       ',\n",
       " ' united I hadn t filed a refund claim as I was told there was no charge by your DM  This is disputed by my bank  hence why I would like     ',\n",
       " ' united did  bags make it on the flight out of iad  second day without clothes is pretty inconvenient  We re pretty curious  UnitedAirlines',\n",
       " ' united Every United flight between Saipan and Guam is an adventure  You never know when  CapeAir s old plane will be operational   ',\n",
       " ' united hence why I ve been asking for the customer service phone number so I can speak to a real person to get this sorted out',\n",
       " ' united did our bags leave Washington yet  That would be convenient seeing as we left there a day ago   UnitedAirlines  lostluggage',\n",
       " ' united so if I m flying  st class just one leg to Chicago but not on my long flight to China am I still able to use the lounge in Chicago',\n",
       " ' united according to your DMs  I m not owed a refund  please may I be provided with a contact number before I go to my bank to file claim',\n",
       " ' united about   hours ago  I need to work out if my bag can make it to my hotel here in time or if it will need to go elsewhere ',\n",
       " ' united Okay thank you',\n",
       " ' united I ve filed the claim but have no way of calling for updates  Is there another way to do this ',\n",
       " ' united pls properly train your agents  Requested to speak to  k customer service  amp  was transferred to a dead end  Not even open at this hr',\n",
       " ' united Thanks for remembering to load my bag onto my connecting flight  Oh wait you forgot  Iceland should be fun with no clothes    ',\n",
       " ' united Thank you for the cheese platter and abundance of entertainment options  Time just flew by ',\n",
       " ' united customer service is atrocious  You have disrupted my travel plans  you have lost my luggage and it is impossible to TALK TO A HUMAN',\n",
       " ' united terminal at MIA should have food open before  am esp when there are flights at  am  Two hours early like recommended  Can t eat ',\n",
       " ' united it was UA flight       Now I m currently stuck in Portland because I missed my ride because of the   hour delay   GetMartyHome',\n",
       " ' united has not responded to my various requests for contact numbers  does anyone know the UK customer service number for  UnitedAirlines',\n",
       " ' united how we looking on getting those bags to Lusaka',\n",
       " ' united Could you update me on the suitcase please  The online and phone tracking told me nothing  I was told I d have it back yesterday ',\n",
       " ' united thank you  Been trying for two days to set this up ',\n",
       " ' united just   last thing  U guys shouldn t be charging   for drinks on a transatlantic flight',\n",
       " ' united LHR arrival lounge  fail  Waited    mins for shower then left to find hotel  U know how many passengers u carry  Planning   ',\n",
       " ' united Any luck with finalizing my reservation  I DM d information to you  Please let me know what else you need  Want to confirm ASAP  Thx',\n",
       " ' united completed form but doubt it s any use  UA doesn t care    day vacation will now be    Sure UA won t feel responsibility for that   ',\n",
       " ' united Definitely a compliment  I really thought my bag was lost after it was sent on to another airport  In the end I am a happy customer',\n",
       " ' united thanx so much  You followed through and emailed me a       ticket voucher   unitedairlines they do care',\n",
       " ' united this will definitely be a trip to remember EWR STI second of the season  first on seat   A because it pays to be loyal ',\n",
       " ' united nope  they told us it was time for them to go home and to sleep at the airport  Even though they assured us we would get a room   ',\n",
       " ' united keep me updated  Let me know that the bags make the flight to j burg',\n",
       " ' united   back for the expensive holiday  he worked all year to pay for  that you RUINED  We want compensation  amp  his original case back ',\n",
       " ' united thanks United I understand that  But he would actually like his own bag back  What have you done with it   He also wants the money  ',\n",
       " ' united frankly worse customer service ever  Problems will happen  how you deal defines a company  Never again United ',\n",
       " ' united It s still a valid flight  Just seems strange to delay for Late Flight inbound crew     hours from now  when the plane is already here ',\n",
       " ' united Thanks for the lack of help and the canned response from the  K desk ',\n",
       " ' united   It s too bad UA has had another unforeseeable operational issue on my return flight ',\n",
       " ' united I would like to know what s going on before his current flight lands ',\n",
       " ' united if I pay you     and     for my luggage to be delivered when I arrive  Why should I have to wait   additional days for its delivery ',\n",
       " ' united so   hotels for    people but feel like we are being held hostage because someone has our boarding passes so we can t leave   FAIL',\n",
       " ' united you are one great airline   ',\n",
       " ' united Outbound   bags    lbs bags Returning home   bag    lbs  What is your logic  And WHY  Am I writing to a Machine  Human HELP required',\n",
       " ' lindaSWC  united   We don t like to hear you had a poor experience  Please share details w our Customer Care team http   t co HIsc NdMgZ ',\n",
       " ' united no Cancelled Flightn just left us to fend for ourselves when flt came in Late Flight  Getting runaround for   hrs  Each employee blaming  previous   ',\n",
       " ' united This is NOT a local UNITED number for Malaysia                      What is your local United Airlines here in Kuala Lumpur   KUL   ',\n",
       " ' united okay ase     m  Find our luggage ',\n",
       " ' united The agent that met us at the gate said any issues w delays on UA     would have to be taken up online   ',\n",
       " ' united I send you an urgent message via eservice united com   BG KWM   Narayanan  Please respond ASAP  Also  NO local United Tel     KUL',\n",
       " ' united thanks  Will you guys be getting the A   s anytime soon ',\n",
       " ' united But they are not    lady one phone says its in tel aviv  Tel Aviv united says its in Newark  No one knows and I have nothing   ',\n",
       " '  united   MelanieSpring We ll see what we can do   KN  We are running  Most of this plane is running  Thanks for the help ',\n",
       " ' united yes  but still now answers  Many have not had their luggage for   days  Unacceptable  ',\n",
       " ' united what is that going to do for you  Nothing just like you always do',\n",
       " ' united I sent in my feedback   Thank you ',\n",
       " ' united plus what about food  And taxis ',\n",
       " ' united you are offering us   rooms for    people  FAIL',\n",
       " ' united    people getting pretty tired about no action on solving the problem plus missing a day of vacation and skiing',\n",
       " ' united The bright side would be keeping the promise that was made to me  Hope you re having a good night  Thanks ',\n",
       " ' united yes I do ',\n",
       " ' united I take back the comment about your team here working hard to help us A so far no solution for a hotel or food or anything  fail',\n",
       " ' united on      arriving two hours Late Flight into CLT  Now sitting on the tarmac while they move a plane from the gate  Unhappy customer ',\n",
       " ' united airlines is the absolute worst  They have no idea what they are doing   neveragain  UnitedAirlines',\n",
       " ' united Thanks  might want to fix this line   Our Customer Care team is currently responding to most inquiries within      business days  ',\n",
       " ' united we just flew with United from AUS  Austin Bergstrom  to Cancun Intl  Best flight ever  The     s are not too big    Not too small ',\n",
       " ' united it s frustrating  as a frequent flyer  loyal since Continental  Upgrade equals paying   times or more on top of purchase ticket ',\n",
       " ' united Deep Vein thrombosis',\n",
       " ' united at its worse  Can t figure how to pack plane  screws up connectns then claims no hotl rooms in San Fran for stranded pax  Way to go ',\n",
       " ' united   passengers after a   hour delayed flight left with no hotel at the end of the night   hou airport  Wtf     http   t co ZfqMpGXVS ',\n",
       " 'Hey  united why does the flight from IAH to POS leave so Late Flight  and the one back to IAH so early  I rather get to POS earlier',\n",
       " ' united Lost bag process is broken  Agent promised they d call  amp  hold my bag when found  Now they re waking me at  am w  delivery   fail',\n",
       " ' united the people at the counter have been very helpful  As you can see nobody is there  Flight to Austin       and still sitting here ',\n",
       " ' united unfortunately still on the Tarmac at  fly ohare and definitely missing my ride from  flypdx  GonnaBeALongNight',\n",
       " '  united   Darquenloveli We regret to hear this  Please let us know if you need assistance   KN  I was finally able to secure my seat  Thx',\n",
       " ' united what time does check in open for flight no UA   from Manchester to Newark today  ',\n",
       " ' united good to know you will open the closed doors for  premier passengers  after safety briefings on delayed flights   annoyed ',\n",
       " ' united DM sent',\n",
       " ' united yea get me to phoenix already  Delays all day with you people  It s bullshit ',\n",
       " ' united If it s any consolation  your staff was stellar  Just not the hour  delays I encountered with every one of my   flights ',\n",
       " ' united flight ua      gate b   And tell ray I somehow made it on to the     flight out of IAH and didn t have to wait for the     one    ',\n",
       " ' united that s unfortunate  The  Tumitravel was an xmas gift and it looks like a razor ripped right through the front pocket in the picture',\n",
       " ' united But thanks for asking',\n",
       " ' united Lost bags  Cancelled Flightled flights  Delhi call centers  Poor United staff spread thin and stressed  You name it ',\n",
       " ' united Yes  Doesn t make that mistake any less absurd  Doesn t change the fact that I m very inconveniently missing my luggage tonight ',\n",
       " ' united I m constantly having challenges with upgrades  amp  charges  In order to prevent DVT I have to pay an addtl      http   t co xC jQ  r B',\n",
       " ' united In ORD  waited    min after crew members left before gate items came  Flight attendant sarcastically said good luck and walked away ',\n",
       " ' united Follow me back  please  and I ll happily DM you the link because I d rather not share my travel plans publicly ',\n",
       " ' united you too ',\n",
       " ' united is my favorite airline ',\n",
       " ' united seriously  fail on making strangers share a room',\n",
       " ' united  luke mcintosh   nah you wouldn t',\n",
       " ' united we needed them here asap  Will they make it on today s flight ',\n",
       " ' united agent split up my reservation  Now can t Cancelled Flight and refund credit for  wks  Why',\n",
       " ' united Our vacation s going to be ruined w    days of rain      The change fee for   of us is nearly cost of original flight  Can you help ',\n",
       " ' united I sent the message  Let me know ASAP ',\n",
       " ' united why would they make me share a room ',\n",
       " ' united tried calling too  but w    min phn wait means we d miss options anyway',\n",
       " ' united can you ask your guys with flight      to BWI to wait for us to get off a delayed flight from San Diego  Pretty please ',\n",
       " ' united we re still waiting to find out your rep is working hard   most upset about having to wait to tomorrow pm to get to mammoth',\n",
       " ' united for an early flt  I think a call is appropriate  Yes  reviewed and nada avail until next day  Expect full refund',\n",
       " ' united i understand  thanks',\n",
       " ' united again I ask  who can I call to get this fixed  Tweeting me BS questions to stall only makes things worse  Phone number please ',\n",
       " ' united Yo yo yo stuck on the tarmac for over   hours at  fly ohare     Going to miss my ride at  flypdx help please   HelpImStuck  United',\n",
       " ' united it s highly unprofessional for you to overbook a flight by    seats  amp feel that I should rearrange my schedule for your mismanagement',\n",
       " ' united well  considering every agent before claimed they were unable to help with everything else  why waste more time to hear  call corp ',\n",
       " ' united man I can t wait to book my ticket now  Thanks JP you re a life sabe',\n",
       " ' united Ice  which I totally understand  But when a large number of us are facing     hours of time and overnight Cancelled Flightations it seems like',\n",
       " ' united flt      Cancelled Flightled and I get email       AM  What happened to courtesy phn call  Had to book diff airline  amp  city',\n",
       " ' united tag numbers                                         let s find these bags ',\n",
       " ' united better train your support staff with appropriate decorum  consider revisiting your terrible  provide a death certificate  policy',\n",
       " ' united Well the bar is set low  You guys are really good at the apology game  What will change  When will u guys learn ',\n",
       " ' united My post was just more of disappointment   I m a frequent United flyer  it was a simple        bad apple doesn t spoil the bunch ',\n",
       " ' united you guys continue to impress me in Houston  http   t co cIh qNllcM',\n",
       " ' United I have no way of making phones calls    Need to handle via Twitter email web  Thank you ',\n",
       " ' united Please help    I am in Ethiopia adopting a two year old child  Have an existing confirmation    Need to add child to reservation ',\n",
       " ' united question are there onboad     volt outlets in all planes  If so  where ',\n",
       " ' united Your website deserves a new design   html  FTW ',\n",
       " ' united thanks for effing up our holidays   we re missing a full day of skiing due to your baggage team s incompetence at  FlyYOW',\n",
       " ' united Twitter isn t letting me DM you  ',\n",
       " ' united I hope so too',\n",
       " ' united agent helps the person in front of me   Finishes up with them and then walks away   The guy behind me is as shocked as I am ',\n",
       " ' united Connection at ORD was on the exact same plane again  Checked carry on was apparently taken off  amp  left in Chicago  Pretty ridiculous ',\n",
       " ' united Not encouraged that I ll have my CPAP tonight ',\n",
       " ' united Yes  Did file a claim as soon as the carousel stopped without my bag on it  Got an email that its found but not sched for delivery',\n",
       " ' United an idea  monitor mileage members travel patterns enough to know when they change jobs lose status   and make the transition easier ',\n",
       " ' united  Delay DEN CLE because they have to manually enter baggage tags  Really  Worst cust service day for this  ker   friendlyskies  ',\n",
       " ' united Why tell us flight is delayed  then tell us it s on time again with    min to spare  Don t say it s delayed unless you re sure ',\n",
       " ' united yes in Lusaka  Zambia  My guess is the bags never made the plane at IAD ',\n",
       " ' united where is my flight voucher ',\n",
       " ' united Late Flight to Denver  Late Flight to Newark   let s not even get into the disaster that was checking bags  Unacceptable ',\n",
       " ' united has once again let me down  Don t think I ve ever flown with them and not had problems  Worst airline period ',\n",
       " ' united yes I filed a claim  amp  hope to receive by luggage by  am  Ridiculous as I had to purchase items to go to sleep  amp  no reimbursement ',\n",
       " ' united UA    ORD LHR   bags are being loaded   min Late Flight  Frigid air into cabin  Plane feels like falling apart  Upgrade long haul fleet ',\n",
       " ' united Flight attendant never served me my beverage  tea   and not once checked up on me  What gives   ua      notcool',\n",
       " ' united load balancing system apparently down  systemwide   major impact on all  united airlines flights  Was this a  cyberattack ',\n",
       " ' united After our unscheduled refueling stop and missing   connecting flights we r home n looking  ward to our bed and a big PB amp J sandwich ',\n",
       " ' united  AmericanAir spent hundreds to rectify the situation and you guys go quiet',\n",
       " ' united UA    sitting at EWR nearly an hour after sked   Pilot says computers down but no clue when we will leave   Can you help ',\n",
       " ' united  AmericanAir so that s it  It just ends there  Come on  I traveled for literally an extra day and a half because of this ',\n",
       " ' united Made the upgrade list  Will fly  st tomorrow  for    min  for the first time ever     StatusMatchPaidOff http   t co ATfRKp goY',\n",
       " ' united not just refunded  but for those of us who are on vacation to get a free room night to make up for making us sleep in DIA',\n",
       " ' united Thanks for the reminder  It s been a fun ride  http   t co pPVA Rch f',\n",
       " ' united I received my luggage that also looked to be left in the snow when I arrived  I m asking for all    people to be refunded ',\n",
       " ' united updated A    aircraft has wifi and device entertainment but no outlets  I don t get it  How can I charge devices ',\n",
       " ' united was no one between the scan and inside the plane  I just asked the people in line around me where the plane was going',\n",
       " ' united   gate changes  two delays   Even the crew thinks the airline sucks',\n",
       " ' united I m very frustrated and have wasted   days now due to your equipment failures ',\n",
       " ' united computers are down but you stopped giving updates and took my flight info off the app  That s just ridiculous keep people updated ',\n",
       " ' united Soooo  it s been    days and you ve offered no response  So I assume poor treatment by gate agents is the norm now ',\n",
       " ' united Terrific  Many thanks  Looking forward to being back on UA tomorrow  Had a great flight up to Vancouver ',\n",
       " ' united Calls to      resulted in  hrs of hold time  amp   day wait to check suspect code share fare  Nothing investigated my time wasted      ',\n",
       " ' united It s taken    weeks for Cust Care to respond to Case           requesting a refund for wi fi not working  Where can I get an update ',\n",
       " ' united I appreciate your efforts getting me home ',\n",
       " ' united That s correct I ve spent hours trying to book online only to receive an error when clicking final purchase button       ',\n",
       " ' united Today was not your finest  All could have been prevented by one gate agent advising     passengers ',\n",
       " ' united  what is the real deal with the delay on flight UA      from Denver to Vegas ',\n",
       " ' united UA   from Madrid arrived no agent mass confusion we sent to and fro by   UA employees  MaryJo was rude and unhelpful ',\n",
       " ' united system failure again   bad trend   Software projects are like flying an airplane  there s no such thing as an emergency takeoff ',\n",
       " ' united lots of reports of system failures delaying flights over the last week  Currently sitting on the tarmac at OGG for over an hour ',\n",
       " ' united rebooting Chicago dispatch system  need  pivotalcf as I m tired of sitting on planes',\n",
       " ' united despite shaky connections  looks like I ll get home tonight  Great job   united   was touch and go for a while  ',\n",
       " ' united http   t co hj kq  Chn  however  is completely under your control the price was and still is displayed on http   t co hj kq  Chn ',\n",
       " ' united the aircraft closest to gate was for the other flight and the one closest to our gate was going to Chicago ',\n",
       " ' united can you tell me how to file a claim for clothing that had to be purchased ',\n",
       " ' united comically on the return flight from ASE there were two United flights boarding at adjacent gates and not clear which plane to board',\n",
       " ' united GRK     M is the file reference',\n",
       " ' united we would   how do I contact you to discuss  A few poor experiences with customer service but would give it a shot ',\n",
       " ' united UA      Pacific Rim and Date Night cut out  Not constantly or randomly  but one spot  repeatably ',\n",
       " ' united Been trying since      to file a report ',\n",
       " ' united I send an email about my bad experience and you send back a generic response   Yet another reason why I ll never fly with you again ',\n",
       " ' united My mom left her Kindle on flight      today  Burgundy case with a light  Seat   D  Did anyone find it ',\n",
       " ' united here is the ticket                 please refund my unnecessary upgrade fee',\n",
       " ' united is horrible   They lost our carseat and expect us to use a loner carseat  safety regulations say it s illegal to use a used car seat',\n",
       " ' united thank you ',\n",
       " 'Decisions Decisions  MandarinJourney  united   We d love for you to try our service  We offer status match too  http   t co xbQqqbRgVF  KP ',\n",
       " 'Need more info on that   united   momsgoodeats We have great amenity kits  PJ s not included  We status match AA   KP ',\n",
       " ' united  I don t care that a  thehipmunk link showed me a  wrong  price on your site it s your site  amp  responsibility to ensure correctness ',\n",
       " ' united Do you have any flights with lie flat seating from STL to PDX around the date of March   ',\n",
       " ' united He needs to get to home the   th  they re telling him it ll be the   th   night  Is there compensation or anything that can be done ',\n",
       " '  united   mllovelace The baggage fee is waived for Premier members  Please see http   t co u Duw  mDE   JP  what s the point of membership ',\n",
       " ' united wonderful bag claim people   finally have my bag  But why did I catch earlier flight  Original flight just landed   wastedtime',\n",
       " ' united Dmed you  Thank you',\n",
       " ' united thanks we ll be in touch ',\n",
       " ' united Thanks to Karen Salisbury at IAH for amazing customer service   Found my daughter s bag lost on UA       Made her day ',\n",
       " ' united   days Late Flightr and my bag has not left IAD  United is not helping at all  Everyone tells me a different story',\n",
       " ' united  RenoAirport hi  when do direct flights from Houston to Reno begin   Don t see any days in March ',\n",
       " ' united like continental s chicken feat fairs',\n",
       " ' united can you assist with current flight status for flt       out of DFW tomorrow at     am ',\n",
       " ' united I left my comment with customer care  Thanks for contacting me ',\n",
       " ' United how do you lose a gate checked bag DEN to ORD  Direct flight  Ugh ',\n",
       " ' united caught earlier flight to ORD  Gate checked bag  and you ve lost it at O Hare  original flight lands in   minutes   frustrating ',\n",
       " 'Yes   Thanks so much       united   whitterbug We see you spoke with our Reservations team and they ve reinstated the flight  Thanks   EY ',\n",
       " ' united captain  on behalf of the front office  welcome on board       Never heard that before  I laughed   hard    funnycaptain',\n",
       " ' united Can you please follow for a Dm on a missing bag ',\n",
       " ' united to be clear on my luggage comment  I am referencing the photo attached  Flight      to JAC http   t co PnBajfkmHG',\n",
       " ' united These are great fares     ',\n",
       " ' united i left an item on the plane and have been calling non stop and no one has been answering can you please help',\n",
       " ' united awesome I ll book my next Christmas vacatinn this December any other ways you want to devalue mileage plus ',\n",
       " ' united what s a good number to call to speak with someone about how you can fix what you did to    people and their luggage on Saturday ',\n",
       " ' United THANK U  Secured room for the night Thx to VERY helpful customer service rep N  Dorns   I thanked her   Can u     goodenoughmother',\n",
       " ' united where s my damn bag  ',\n",
       " ' united well someone should tell that to the employees at the Denver baggage claim  Still no bag    ',\n",
       " ' united Greetings  UA Club member here  Any idea if I can use the Air Canada Lounge at YVR  Flying UA tomorrow ',\n",
       " ' united how is Mexico not international from the us ',\n",
       " ' united diverted and missed our connecting flight  Was just told that my bag is on it s way to MSY  If you only had people that cared',\n",
       " ' united Male agnt in LAS threatens Canadian cust when cust takes pic of him at gate after agents announce can t help rebook   friendlyskies ',\n",
       " ' united  Apollochplayers we just want to go home tonight   why did you Cancelled Flight the last leg of our reserv  w out our permission     PH RPS',\n",
       " ' united  Stressed and rude agents  Overwhelmed by delyd flight LAS DEN       Yelling at several people  Not pretty  This is  friendlyskies  ',\n",
       " ' united landed in Boston at   last night   The    hours of traveling was rough tho ',\n",
       " ' united FAIL You Cancelled Flightled our flight frm GJT and then used our reserv home to IAH  from SEA  for reFlight Booking Problems w out OUR PERMISSION    PH RPS',\n",
       " 'Just sent thank u RT  united   goodenufmother Please DM your confirmation number if reFlight Booking Problems is needed  Thank you   EY',\n",
       " ' united has made my no fly list  Other airlines wait when connector Late Flight  Stuck in IAH ',\n",
       " ' United so what s the deal  Do u provide voucher for overnight or am I cozy on the floor at  OHare    gross  HelpMePlease  AnyoneThere',\n",
       " ' united also  the mere fact that I have to go online to issue a statement vice calling and talking to some directly is one good example ',\n",
       " ' united thank you  I flew into Newark from Vail Eagle ',\n",
       " ' united  i have a weekend of dealing with your company that would say otherwise ',\n",
       " ' United now what    http   t co  hpSqVRjK  flight was gone when I got off plane   BusinessTravel  goodenoughmother',\n",
       " ' united the proper response  sorry for your wait  what flight   were you on so we can look into the issue  That s how  Delta would handle ',\n",
       " ' united your customer service is terrible  Stood inline   hours no flights and   hours Late Flightr still no bag disgutedindenver',\n",
       " ' united please upload the March on demand entertainment listing on your website    ',\n",
       " ' united So you are inadequate by accident ',\n",
       " ' united  reebok  rockinwellness   Denver International Airport https   t co tKVmHBkeC ',\n",
       " ' united Thank you for responding so quickly with a helpful tool   dustyob',\n",
       " ' united boarding time shows    min and your gate agent started at     showed up at      and they had to check bag  http   t co zCBJyo lsN',\n",
       " ' united Agent in LAS letting    customers know they can t help them rebook delayed flight to DEN  unfriendlyskies http   t co QuzVmK rTR',\n",
       " ' united empathizes w  my disappointment that  stClass flight w nonworking entertainmnt is worth       UnFriendlySkies http   t co lOecO gmvd',\n",
       " ' united    and when that doesn t work   ',\n",
       " ' united did you have seen my message today   About a mcdonnell Douglas dc    model   I will hear it if you read it  Goodnight now',\n",
       " ' united searched for mileage tickets to BOM couldn t find a single one is saver awards   I see how you play   Earn miles but can t use them ',\n",
       " ' united flight arrives    minutes early  but then have we to wait for an hour for our bags ',\n",
       " ' united That s not the issue  The fact that no one even called  despite promises  to confirm the bag s location is ',\n",
       " ' united what s a girl gotta do to get a flight name change when SHE bought one for a mean ex boyfriend and needs a girl s trip stat  ',\n",
       " ' united thank you  We are signed up for notifications  We shall watch and wait      ',\n",
       " ' united still waiting to hear back  My wallet was stolen from one of your planes so would appreciate a resolution here',\n",
       " ' united I would love if someone could get me back to Austin tonight and I do not wish to wait til tomorrow morning ',\n",
       " ' united or  flysaa has lost my baggage  heard different things from different employees of  united   flysaa has said nothing ',\n",
       " ' united cs thinks that miles can repair the damage done  it will be interesting if they travel in  united and exp the worst flight ever ',\n",
       " ' united I have a      flight out of DFW on Tuesday  How far in advance will you give notice if Cancelled Flightled ',\n",
       " ' united I am signed up for notifications  This is the first trip I was not updated on  Not sure why this happened ',\n",
       " ' united Thank you  Took care of everything and made it right  That s the experience I m used to  Opened the app to find flight changed ',\n",
       " ' united that is not in line with your responses here  And now I m waiting until tomorrow morning because all the flights are overbooked ',\n",
       " ' united I took the exact same aircraft in to LAX   days ago  It fit  no problem  The agent today told some nonsense about a policy change',\n",
       " ' united your helpful agents in Club helped   I am just out baggage fees and a night of my life stop doing business with  SilverAirways',\n",
       " ' United never heard of this  http   t co QDebyaHqfM',\n",
       " ' SouthwestAir doesn t charge ticket change fees  Do they not incur the same mysterious  costs  that you incur   united ',\n",
       " ' united Exhausted  amp  frustrated  Link to a FB post abt my travel issue https   t co LaRKC vc s',\n",
       " ' united I was denied getting on the plane w o getting the chance to prove it fits  I m not a rookie  Read my bio ',\n",
       " ' united that s exactly the point  It fits  I m premier access  Boarding group    This was a return ticket  I ve been doing this for    yrs',\n",
       " ' united I ve never experienced worst customer service  Placing blame on codeshare partners and not assuming responsibility is unacceptable',\n",
       " ' united currently on board so not now  Check in was terrible  Staff rude  Expensive luggage thrown around etc ',\n",
       " ' United fucked up  then voided my ticket  and KEPT MY MONEY   Not even an apology  I will never fly with your airline again   UnitedAirlines',\n",
       " ' united has the WORST customer svcs  This Kevin rep at call center must be investigated  My baggage s lost and there s no help but argument ',\n",
       " ' united should NOT sell tickets for  SilverAirways on http   t co onhXHCO bK   has terrible service and UA staff cannot reach Silver',\n",
       " ' united Just got demoted from Gold cuz my hubby got      of the PQD  tho there were enuf   spent for   Golds  spousal discrimination angry ',\n",
       " ' united Thank you ',\n",
       " ' united When will direct flights from Belfast Intl to Newark resume from their winter break  Thanks ',\n",
       " ' united My favorite way to travel  Thank you  http   t co vGN X ckg ',\n",
       " ' united yes  after this awful weather it appears I can get home',\n",
       " ' united yes lots  You have terrible customer service at Newark and despite raising a complaint there we were ignored hence the tweet',\n",
       " ' united Lovely new plane from LGA to ORD but no power outlets ',\n",
       " ' united but if i tweet the ID number  won t that reveal my home address to anyone on the web ',\n",
       " ' united I filed a delayed bag report on Saturday  my flight was Cancelled Flightled and I never went anywhere ',\n",
       " ' united the person is currently bettween gates   A and    in LAX',\n",
       " ' united i need it there before she lands so she can have the EWR baggage claim file to have it sent but the employee has not droppeditoffyet',\n",
       " ' united rarely ceases to amaze   for the worse   i hope this is the last time i  have  to fly with you ',\n",
       " ' united thank you for the quick response but I cannot dm you until you follow me as well',\n",
       " ' united iCloud it is not there yet    PLEASE HELP             ',\n",
       " ' united I need the phone number to baggage claim in LAX  my mom left her phone and someone called saying they would put it there but on',\n",
       " ' united I did    no response back',\n",
       " ' united this is atrocious customer service ',\n",
       " ' United will not have to honor absurdly low mistake fares  http   t co  Z Jv  IlW v a  usatoday',\n",
       " ' united  albanyairport delayed departure to check bags at gate claiming space filled and walk on to open spaces a delay  poorcustomerservice',\n",
       " ' united you Cancelled Flighted our flights for no reason  amp  now we have been on the phone for AN HOUR on our vacation  Why ',\n",
       " ' united  dfpietra THAT S your response   Shaking my head back and forth with a tsk  You can do better from customer service to your apology',\n",
       " ' united thanks  It s   K miles from RTB to Europe  to do a multiple destination so we could stop over in US on way way back  mileage diff ',\n",
       " ' united of course I did  The bag should be here by now     frustrated',\n",
       " ' united you are the worst  I will avoid you like the plague ',\n",
       " ' united is the worst airline in the world ',\n",
       " ' united someone needs to DM me and resolve this correctly  Extremely disappointed with the service I received  Terrible management ',\n",
       " ' united Premier Gold desk changes flight  Waives fees  Gives me wrong flight  Now Jana Acosta in Salt Lake refuses the same service  Angry ',\n",
       " ' united I will give you one thing  you are consistent but unfortunately you are consistent at not doing your job well  AlwaysDelayedOnUnited',\n",
       " ' united I will but right now I m to angry',\n",
       " ' united first time flying with United  Also last time   terrible back to  VirginAtlantic for me   branson  virginatlantic  UnitedAirlines',\n",
       " ' united I used to be a committed  ContinentalAirlines flyer until merger  I remember now why I switched to  SouthwestAir  CommunicationFail',\n",
       " ' united the least you could do is offer me a ticket in coach instead of just Cancelled Flighting my reservation because of your glitch     notfair',\n",
       " ' united I m saying I made the flight but with poor non communication  unaccounted for lost time  amp  lots of frustrated flyers standing around',\n",
       " ' united I think DM would be better',\n",
       " ' United gate announcement states delay due to maintenance yet app says Late Flight arriving aircraft  tell the truth   unfriendly',\n",
       " ' united you are easily the worst company I have ever experienced  You have lost someone s personal possessions  amp  you couldn t care less     ',\n",
       " ' united how can your app show arriving aircraft is early but departing flight is delayed due to Late Flight arriving aircraft   unfriendly',\n",
       " ' united already did that at the airport and    hrs Late Flightr its still not here  you guys are really killing me today  trying to stay positive  ',\n",
       " ' united once united s service levels reaches those of Etihad or lets be more realistically Lufthansa then ill consider it again',\n",
       " ' united really   Someone called in sick and then someone FORGOT to call a replacement    Now an hour Late Flight to take off   theworst',\n",
       " ' united Asked Flight attendant what typical compensation would be  amp  says we might get free TV   Unacceptable',\n",
       " ' united done',\n",
       " ' united Thank you   JH  appreciate the prompt responses  me and other passengers will be doing so ',\n",
       " ' united has been such a disappointment today  Simply put  Rather unpleased with things currently  Flight delayed  cant wait to just get home',\n",
       " ' united During the same round trip  my NON English speaking friend was stranded TWICE for     hours each time  Most staff members were rude ',\n",
       " ' united  found a group of people who actually hates people more than ISIS  thats right United Airlines ',\n",
       " ' united Nope  Walked up  amp  down the ORF terminal   amp  not a United agent to be found  Showed up   last minute to board us  Many panicked people',\n",
       " ' united thank you',\n",
       " ' united by the time I finally get to Dallas I could have driven with less frustration and cheaper ',\n",
       " ' united I m trying to get to my final destination  we need compensation  Just about  hrs of personal time wasted ',\n",
       " ' united that guy really has no customer service clue Could have spent effort clearing bins for rollerboards instead of art projects in mine ',\n",
       " ' united he has no priority and Iove it',\n",
       " ' united Pleased to be a Premier Platinum',\n",
       " ...]"
      ]
     },
     "execution_count": 20,
     "metadata": {},
     "output_type": "execute_result"
    }
   ],
   "source": [
    "process_feat"
   ]
  },
  {
   "cell_type": "code",
   "execution_count": 21,
   "metadata": {},
   "outputs": [],
   "source": [
    "from sklearn.feature_extraction.text import CountVectorizer,TfidfTransformer,TfidfVectorizer\n",
    "from sklearn.ensemble import RandomForestClassifier\n",
    "from sklearn.naive_bayes import MultinomialNB\n",
    "from sklearn.svm import SVC\n",
    "from sklearn.metrics import confusion_matrix,accuracy_score,classification_report\n"
   ]
  },
  {
   "cell_type": "code",
   "execution_count": 22,
   "metadata": {},
   "outputs": [],
   "source": [
    "cv=CountVectorizer(ngram_range=(1,2),stop_words=stopwords.words('english'))\n",
    "tfidft=TfidfTransformer()\n",
    "tfidfv=TfidfVectorizer()\n",
    "rand_mod=RandomForestClassifier(n_estimators=200,random_state=0)"
   ]
  },
  {
   "cell_type": "markdown",
   "metadata": {},
   "source": [
    "## Set1 :( CountVectoriser + TFIDFtransformer + Random Forests Classifier,NaiveBayes Classifier )"
   ]
  },
  {
   "cell_type": "code",
   "execution_count": 23,
   "metadata": {},
   "outputs": [],
   "source": [
    "cvprocess_words=cv.fit_transform(process_feat)"
   ]
  },
  {
   "cell_type": "code",
   "execution_count": 24,
   "metadata": {},
   "outputs": [],
   "source": [
    "data=tfidft.fit_transform(cvprocess_words)"
   ]
  },
  {
   "cell_type": "code",
   "execution_count": null,
   "metadata": {},
   "outputs": [],
   "source": []
  },
  {
   "cell_type": "markdown",
   "metadata": {},
   "source": [
    "## Train Test Split :"
   ]
  },
  {
   "cell_type": "code",
   "execution_count": 25,
   "metadata": {},
   "outputs": [],
   "source": [
    "from sklearn.model_selection import train_test_split"
   ]
  },
  {
   "cell_type": "code",
   "execution_count": 26,
   "metadata": {},
   "outputs": [],
   "source": [
    "X_train, X_test, y_train, y_test = train_test_split(data, labels, test_size=0.2, random_state=0)"
   ]
  },
  {
   "cell_type": "code",
   "execution_count": 27,
   "metadata": {},
   "outputs": [
    {
     "data": {
      "text/plain": [
       "RandomForestClassifier(bootstrap=True, ccp_alpha=0.0, class_weight=None,\n",
       "                       criterion='gini', max_depth=None, max_features='auto',\n",
       "                       max_leaf_nodes=None, max_samples=None,\n",
       "                       min_impurity_decrease=0.0, min_impurity_split=None,\n",
       "                       min_samples_leaf=1, min_samples_split=2,\n",
       "                       min_weight_fraction_leaf=0.0, n_estimators=200,\n",
       "                       n_jobs=None, oob_score=False, random_state=0, verbose=0,\n",
       "                       warm_start=False)"
      ]
     },
     "execution_count": 27,
     "metadata": {},
     "output_type": "execute_result"
    }
   ],
   "source": [
    "rand_mod.fit(X_train,y_train)"
   ]
  },
  {
   "cell_type": "code",
   "execution_count": 28,
   "metadata": {},
   "outputs": [
    {
     "data": {
      "text/plain": [
       "array(['negative', 'negative', 'negative', ..., 'negative', 'negative',\n",
       "       'negative'], dtype=object)"
      ]
     },
     "execution_count": 28,
     "metadata": {},
     "output_type": "execute_result"
    }
   ],
   "source": [
    "rand_mod.predict(X_test)"
   ]
  },
  {
   "cell_type": "code",
   "execution_count": 29,
   "metadata": {},
   "outputs": [],
   "source": [
    "pred1=rand_mod.predict(X_test)"
   ]
  },
  {
   "cell_type": "code",
   "execution_count": 30,
   "metadata": {},
   "outputs": [
    {
     "name": "stdout",
     "output_type": "stream",
     "text": [
      "              precision    recall  f1-score   support\n",
      "\n",
      "    negative       0.76      0.95      0.85      1870\n",
      "     neutral       0.65      0.37      0.47       614\n",
      "    positive       0.84      0.47      0.60       444\n",
      "\n",
      "    accuracy                           0.76      2928\n",
      "   macro avg       0.75      0.60      0.64      2928\n",
      "weighted avg       0.75      0.76      0.73      2928\n",
      "\n"
     ]
    }
   ],
   "source": [
    "print(classification_report(y_test,pred1))"
   ]
  },
  {
   "cell_type": "code",
   "execution_count": 31,
   "metadata": {},
   "outputs": [
    {
     "data": {
      "text/plain": [
       "0.7564890710382514"
      ]
     },
     "execution_count": 31,
     "metadata": {},
     "output_type": "execute_result"
    }
   ],
   "source": [
    "accuracy_score(y_test,pred1)"
   ]
  },
  {
   "cell_type": "code",
   "execution_count": 33,
   "metadata": {},
   "outputs": [],
   "source": [
    "mnb=MultinomialNB()"
   ]
  },
  {
   "cell_type": "code",
   "execution_count": 34,
   "metadata": {},
   "outputs": [
    {
     "data": {
      "text/plain": [
       "MultinomialNB(alpha=1.0, class_prior=None, fit_prior=True)"
      ]
     },
     "execution_count": 34,
     "metadata": {},
     "output_type": "execute_result"
    }
   ],
   "source": [
    "mnb.fit(X_train,y_train)"
   ]
  },
  {
   "cell_type": "code",
   "execution_count": 35,
   "metadata": {},
   "outputs": [
    {
     "data": {
      "text/plain": [
       "array(['negative', 'negative', 'negative', ..., 'negative', 'negative',\n",
       "       'negative'], dtype='<U8')"
      ]
     },
     "execution_count": 35,
     "metadata": {},
     "output_type": "execute_result"
    }
   ],
   "source": [
    "mnb.predict(X_test)"
   ]
  },
  {
   "cell_type": "code",
   "execution_count": 36,
   "metadata": {},
   "outputs": [
    {
     "name": "stdout",
     "output_type": "stream",
     "text": [
      "              precision    recall  f1-score   support\n",
      "\n",
      "    negative       0.67      0.99      0.80      1870\n",
      "     neutral       0.74      0.10      0.18       614\n",
      "    positive       0.89      0.11      0.20       444\n",
      "\n",
      "    accuracy                           0.67      2928\n",
      "   macro avg       0.77      0.40      0.39      2928\n",
      "weighted avg       0.72      0.67      0.58      2928\n",
      "\n"
     ]
    }
   ],
   "source": [
    "print(classification_report(y_test,mnb.predict(X_test)))"
   ]
  },
  {
   "cell_type": "code",
   "execution_count": 37,
   "metadata": {},
   "outputs": [
    {
     "data": {
      "text/plain": [
       "0.6734972677595629"
      ]
     },
     "execution_count": 37,
     "metadata": {},
     "output_type": "execute_result"
    }
   ],
   "source": [
    "accuracy_score(y_test,mnb.predict(X_test))"
   ]
  },
  {
   "cell_type": "code",
   "execution_count": null,
   "metadata": {},
   "outputs": [],
   "source": []
  },
  {
   "cell_type": "markdown",
   "metadata": {},
   "source": [
    "# Set 2: ( Random Forest Classifier + TfidfVectoriser )"
   ]
  },
  {
   "cell_type": "code",
   "execution_count": 38,
   "metadata": {},
   "outputs": [],
   "source": [
    "tfidf_cust_vec=TfidfVectorizer(ngram_range=(1,2),max_features=3500,max_df=0.90,min_df=10,stop_words=stopwords.words('english'))"
   ]
  },
  {
   "cell_type": "code",
   "execution_count": 39,
   "metadata": {},
   "outputs": [
    {
     "data": {
      "text/plain": [
       "<14640x2518 sparse matrix of type '<class 'numpy.float64'>'\n",
       "\twith 139925 stored elements in Compressed Sparse Row format>"
      ]
     },
     "execution_count": 39,
     "metadata": {},
     "output_type": "execute_result"
    }
   ],
   "source": [
    "tfidf_cust_vec.fit_transform(process_feat)"
   ]
  },
  {
   "cell_type": "code",
   "execution_count": null,
   "metadata": {},
   "outputs": [],
   "source": []
  },
  {
   "cell_type": "code",
   "execution_count": 40,
   "metadata": {},
   "outputs": [],
   "source": [
    "data2=tfidf_cust_vec.fit_transform(process_feat)"
   ]
  },
  {
   "cell_type": "code",
   "execution_count": 41,
   "metadata": {},
   "outputs": [],
   "source": [
    "X1_train, X1_test, y1_train, y1_test = train_test_split(data2, labels, test_size=0.2, random_state=0)"
   ]
  },
  {
   "cell_type": "code",
   "execution_count": 42,
   "metadata": {},
   "outputs": [
    {
     "data": {
      "text/plain": [
       "RandomForestClassifier(bootstrap=True, ccp_alpha=0.0, class_weight=None,\n",
       "                       criterion='gini', max_depth=None, max_features='auto',\n",
       "                       max_leaf_nodes=None, max_samples=None,\n",
       "                       min_impurity_decrease=0.0, min_impurity_split=None,\n",
       "                       min_samples_leaf=1, min_samples_split=2,\n",
       "                       min_weight_fraction_leaf=0.0, n_estimators=200,\n",
       "                       n_jobs=None, oob_score=False, random_state=0, verbose=0,\n",
       "                       warm_start=False)"
      ]
     },
     "execution_count": 42,
     "metadata": {},
     "output_type": "execute_result"
    }
   ],
   "source": [
    "rand_mod.fit(X1_train,y1_train)"
   ]
  },
  {
   "cell_type": "code",
   "execution_count": 43,
   "metadata": {},
   "outputs": [
    {
     "data": {
      "text/plain": [
       "array(['negative', 'negative', 'negative', ..., 'negative', 'negative',\n",
       "       'negative'], dtype=object)"
      ]
     },
     "execution_count": 43,
     "metadata": {},
     "output_type": "execute_result"
    }
   ],
   "source": [
    "rand_mod.predict(X1_test)"
   ]
  },
  {
   "cell_type": "code",
   "execution_count": 44,
   "metadata": {},
   "outputs": [],
   "source": [
    "pred2=rand_mod.predict(X1_test)"
   ]
  },
  {
   "cell_type": "code",
   "execution_count": 45,
   "metadata": {},
   "outputs": [
    {
     "name": "stdout",
     "output_type": "stream",
     "text": [
      "              precision    recall  f1-score   support\n",
      "\n",
      "    negative       0.79      0.92      0.85      1870\n",
      "     neutral       0.60      0.41      0.49       614\n",
      "    positive       0.73      0.54      0.62       444\n",
      "\n",
      "    accuracy                           0.75      2928\n",
      "   macro avg       0.70      0.62      0.65      2928\n",
      "weighted avg       0.74      0.75      0.74      2928\n",
      "\n"
     ]
    }
   ],
   "source": [
    "print(classification_report(y1_test,pred2))"
   ]
  },
  {
   "cell_type": "code",
   "execution_count": 46,
   "metadata": {},
   "outputs": [
    {
     "data": {
      "text/plain": [
       "0.7547814207650273"
      ]
     },
     "execution_count": 46,
     "metadata": {},
     "output_type": "execute_result"
    }
   ],
   "source": [
    "accuracy_score(y1_test,pred2)"
   ]
  },
  {
   "cell_type": "markdown",
   "metadata": {},
   "source": [
    "# Set 3 : ( NaiveBayes Classifier + TfidfVectoriser )"
   ]
  },
  {
   "cell_type": "code",
   "execution_count": 47,
   "metadata": {},
   "outputs": [],
   "source": [
    "mnb=MultinomialNB()"
   ]
  },
  {
   "cell_type": "code",
   "execution_count": 48,
   "metadata": {},
   "outputs": [
    {
     "data": {
      "text/plain": [
       "MultinomialNB(alpha=1.0, class_prior=None, fit_prior=True)"
      ]
     },
     "execution_count": 48,
     "metadata": {},
     "output_type": "execute_result"
    }
   ],
   "source": [
    "mnb.fit(X1_train,y1_train)"
   ]
  },
  {
   "cell_type": "code",
   "execution_count": 49,
   "metadata": {},
   "outputs": [
    {
     "data": {
      "text/plain": [
       "array(['negative', 'negative', 'negative', ..., 'negative', 'negative',\n",
       "       'negative'], dtype='<U8')"
      ]
     },
     "execution_count": 49,
     "metadata": {},
     "output_type": "execute_result"
    }
   ],
   "source": [
    "mnb.predict(X1_test)"
   ]
  },
  {
   "cell_type": "code",
   "execution_count": 50,
   "metadata": {},
   "outputs": [],
   "source": [
    "pred3=mnb.predict(X1_test)"
   ]
  },
  {
   "cell_type": "code",
   "execution_count": 51,
   "metadata": {},
   "outputs": [
    {
     "name": "stdout",
     "output_type": "stream",
     "text": [
      "              precision    recall  f1-score   support\n",
      "\n",
      "    negative       0.76      0.96      0.85      1870\n",
      "     neutral       0.71      0.36      0.47       614\n",
      "    positive       0.81      0.48      0.60       444\n",
      "\n",
      "    accuracy                           0.76      2928\n",
      "   macro avg       0.76      0.60      0.64      2928\n",
      "weighted avg       0.76      0.76      0.73      2928\n",
      "\n"
     ]
    }
   ],
   "source": [
    "print(classification_report(y1_test,pred3))"
   ]
  },
  {
   "cell_type": "code",
   "execution_count": 52,
   "metadata": {},
   "outputs": [
    {
     "data": {
      "text/plain": [
       "0.7616120218579235"
      ]
     },
     "execution_count": 52,
     "metadata": {},
     "output_type": "execute_result"
    }
   ],
   "source": [
    "accuracy_score(y1_test,pred3)"
   ]
  },
  {
   "cell_type": "markdown",
   "metadata": {},
   "source": [
    "## Set 4:( Support Vector Machines Classifier + TfidfVectoriser )"
   ]
  },
  {
   "cell_type": "code",
   "execution_count": 53,
   "metadata": {},
   "outputs": [],
   "source": [
    "svm_mod=SVC()"
   ]
  },
  {
   "cell_type": "code",
   "execution_count": 54,
   "metadata": {},
   "outputs": [
    {
     "data": {
      "text/plain": [
       "SVC(C=1.0, break_ties=False, cache_size=200, class_weight=None, coef0=0.0,\n",
       "    decision_function_shape='ovr', degree=3, gamma='scale', kernel='rbf',\n",
       "    max_iter=-1, probability=False, random_state=None, shrinking=True,\n",
       "    tol=0.001, verbose=False)"
      ]
     },
     "execution_count": 54,
     "metadata": {},
     "output_type": "execute_result"
    }
   ],
   "source": [
    "svm_mod.fit(X1_train,y1_train)"
   ]
  },
  {
   "cell_type": "code",
   "execution_count": 55,
   "metadata": {},
   "outputs": [
    {
     "data": {
      "text/plain": [
       "array(['negative', 'negative', 'negative', ..., 'negative', 'negative',\n",
       "       'negative'], dtype=object)"
      ]
     },
     "execution_count": 55,
     "metadata": {},
     "output_type": "execute_result"
    }
   ],
   "source": [
    "svm_mod.predict(X1_test)"
   ]
  },
  {
   "cell_type": "code",
   "execution_count": 56,
   "metadata": {},
   "outputs": [
    {
     "name": "stdout",
     "output_type": "stream",
     "text": [
      "              precision    recall  f1-score   support\n",
      "\n",
      "    negative       0.80      0.94      0.86      1870\n",
      "     neutral       0.67      0.43      0.53       614\n",
      "    positive       0.81      0.57      0.67       444\n",
      "\n",
      "    accuracy                           0.78      2928\n",
      "   macro avg       0.76      0.65      0.69      2928\n",
      "weighted avg       0.77      0.78      0.76      2928\n",
      "\n"
     ]
    }
   ],
   "source": [
    "print(classification_report(y1_test,svm_mod.predict(X1_test)))"
   ]
  },
  {
   "cell_type": "code",
   "execution_count": 57,
   "metadata": {},
   "outputs": [
    {
     "data": {
      "text/plain": [
       "0.780396174863388"
      ]
     },
     "execution_count": 57,
     "metadata": {},
     "output_type": "execute_result"
    }
   ],
   "source": [
    "accuracy_score(y1_test,svm_mod.predict(X1_test))"
   ]
  },
  {
   "cell_type": "code",
   "execution_count": 64,
   "metadata": {},
   "outputs": [],
   "source": [
    "df2=pd.DataFrame({'Actual Class':y1_test,'Predicted Class':svm_mod.predict(X1_test)})"
   ]
  },
  {
   "cell_type": "code",
   "execution_count": 65,
   "metadata": {},
   "outputs": [
    {
     "data": {
      "text/html": [
       "<div>\n",
       "<style scoped>\n",
       "    .dataframe tbody tr th:only-of-type {\n",
       "        vertical-align: middle;\n",
       "    }\n",
       "\n",
       "    .dataframe tbody tr th {\n",
       "        vertical-align: top;\n",
       "    }\n",
       "\n",
       "    .dataframe thead th {\n",
       "        text-align: right;\n",
       "    }\n",
       "</style>\n",
       "<table border=\"1\" class=\"dataframe\">\n",
       "  <thead>\n",
       "    <tr style=\"text-align: right;\">\n",
       "      <th></th>\n",
       "      <th>Actual Class</th>\n",
       "      <th>Predicted Class</th>\n",
       "    </tr>\n",
       "  </thead>\n",
       "  <tbody>\n",
       "    <tr>\n",
       "      <th>13983</th>\n",
       "      <td>negative</td>\n",
       "      <td>negative</td>\n",
       "    </tr>\n",
       "    <tr>\n",
       "      <th>14484</th>\n",
       "      <td>negative</td>\n",
       "      <td>negative</td>\n",
       "    </tr>\n",
       "    <tr>\n",
       "      <th>6403</th>\n",
       "      <td>negative</td>\n",
       "      <td>negative</td>\n",
       "    </tr>\n",
       "    <tr>\n",
       "      <th>9653</th>\n",
       "      <td>negative</td>\n",
       "      <td>negative</td>\n",
       "    </tr>\n",
       "    <tr>\n",
       "      <th>13268</th>\n",
       "      <td>negative</td>\n",
       "      <td>positive</td>\n",
       "    </tr>\n",
       "    <tr>\n",
       "      <th>2384</th>\n",
       "      <td>neutral</td>\n",
       "      <td>negative</td>\n",
       "    </tr>\n",
       "    <tr>\n",
       "      <th>9613</th>\n",
       "      <td>negative</td>\n",
       "      <td>negative</td>\n",
       "    </tr>\n",
       "    <tr>\n",
       "      <th>11612</th>\n",
       "      <td>negative</td>\n",
       "      <td>negative</td>\n",
       "    </tr>\n",
       "    <tr>\n",
       "      <th>9252</th>\n",
       "      <td>negative</td>\n",
       "      <td>negative</td>\n",
       "    </tr>\n",
       "    <tr>\n",
       "      <th>13923</th>\n",
       "      <td>negative</td>\n",
       "      <td>negative</td>\n",
       "    </tr>\n",
       "  </tbody>\n",
       "</table>\n",
       "</div>"
      ],
      "text/plain": [
       "      Actual Class Predicted Class\n",
       "13983     negative        negative\n",
       "14484     negative        negative\n",
       "6403      negative        negative\n",
       "9653      negative        negative\n",
       "13268     negative        positive\n",
       "2384       neutral        negative\n",
       "9613      negative        negative\n",
       "11612     negative        negative\n",
       "9252      negative        negative\n",
       "13923     negative        negative"
      ]
     },
     "execution_count": 65,
     "metadata": {},
     "output_type": "execute_result"
    }
   ],
   "source": [
    "df2.head(10)"
   ]
  },
  {
   "cell_type": "markdown",
   "metadata": {},
   "source": [
    "## Set 5 : ( Logistic Regresssion + TfidfVectoriser )"
   ]
  },
  {
   "cell_type": "code",
   "execution_count": 58,
   "metadata": {},
   "outputs": [],
   "source": [
    "from sklearn.linear_model import LogisticRegression"
   ]
  },
  {
   "cell_type": "code",
   "execution_count": 59,
   "metadata": {},
   "outputs": [],
   "source": [
    "logm=LogisticRegression()"
   ]
  },
  {
   "cell_type": "code",
   "execution_count": 60,
   "metadata": {},
   "outputs": [
    {
     "name": "stderr",
     "output_type": "stream",
     "text": [
      "c:\\python38\\lib\\site-packages\\sklearn\\linear_model\\_logistic.py:938: ConvergenceWarning: lbfgs failed to converge (status=1):\n",
      "STOP: TOTAL NO. of ITERATIONS REACHED LIMIT.\n",
      "\n",
      "Increase the number of iterations (max_iter) or scale the data as shown in:\n",
      "    https://scikit-learn.org/stable/modules/preprocessing.html\n",
      "Please also refer to the documentation for alternative solver options:\n",
      "    https://scikit-learn.org/stable/modules/linear_model.html#logistic-regression\n",
      "  n_iter_i = _check_optimize_result(\n"
     ]
    },
    {
     "data": {
      "text/plain": [
       "LogisticRegression(C=1.0, class_weight=None, dual=False, fit_intercept=True,\n",
       "                   intercept_scaling=1, l1_ratio=None, max_iter=100,\n",
       "                   multi_class='auto', n_jobs=None, penalty='l2',\n",
       "                   random_state=None, solver='lbfgs', tol=0.0001, verbose=0,\n",
       "                   warm_start=False)"
      ]
     },
     "execution_count": 60,
     "metadata": {},
     "output_type": "execute_result"
    }
   ],
   "source": [
    "logm.fit(X1_train,y1_train)"
   ]
  },
  {
   "cell_type": "code",
   "execution_count": 61,
   "metadata": {},
   "outputs": [
    {
     "data": {
      "text/plain": [
       "array(['negative', 'negative', 'negative', ..., 'negative', 'negative',\n",
       "       'negative'], dtype=object)"
      ]
     },
     "execution_count": 61,
     "metadata": {},
     "output_type": "execute_result"
    }
   ],
   "source": [
    "logm.predict(X1_test)"
   ]
  },
  {
   "cell_type": "code",
   "execution_count": 62,
   "metadata": {},
   "outputs": [
    {
     "name": "stdout",
     "output_type": "stream",
     "text": [
      "              precision    recall  f1-score   support\n",
      "\n",
      "    negative       0.81      0.93      0.87      1870\n",
      "     neutral       0.64      0.48      0.55       614\n",
      "    positive       0.80      0.60      0.68       444\n",
      "\n",
      "    accuracy                           0.78      2928\n",
      "   macro avg       0.75      0.67      0.70      2928\n",
      "weighted avg       0.77      0.78      0.77      2928\n",
      "\n"
     ]
    }
   ],
   "source": [
    "print(classification_report(y1_test,logm.predict(X1_test)))"
   ]
  },
  {
   "cell_type": "code",
   "execution_count": 63,
   "metadata": {},
   "outputs": [
    {
     "data": {
      "text/plain": [
       "0.7831284153005464"
      ]
     },
     "execution_count": 63,
     "metadata": {},
     "output_type": "execute_result"
    }
   ],
   "source": [
    "accuracy_score(y1_test,logm.predict(X1_test))"
   ]
  },
  {
   "cell_type": "code",
   "execution_count": null,
   "metadata": {},
   "outputs": [],
   "source": []
  },
  {
   "cell_type": "markdown",
   "metadata": {},
   "source": [
    "##### Okkay.. SO as Per my trials, i can say that the best combination-SET-4  , which is TfidfVectoriser + Support Vector Machines as a classifier , has resulted in highest Accuracy..That is 78 %"
   ]
  },
  {
   "cell_type": "code",
   "execution_count": null,
   "metadata": {},
   "outputs": [],
   "source": []
  }
 ],
 "metadata": {
  "kernelspec": {
   "display_name": "Python 3",
   "language": "python",
   "name": "python3"
  },
  "language_info": {
   "codemirror_mode": {
    "name": "ipython",
    "version": 3
   },
   "file_extension": ".py",
   "mimetype": "text/x-python",
   "name": "python",
   "nbconvert_exporter": "python",
   "pygments_lexer": "ipython3",
   "version": "3.8.2"
  }
 },
 "nbformat": 4,
 "nbformat_minor": 4
}
